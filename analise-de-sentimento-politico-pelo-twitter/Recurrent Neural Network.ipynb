{
 "cells": [
  {
   "cell_type": "code",
   "execution_count": 34,
   "id": "6397d37e",
   "metadata": {},
   "outputs": [],
   "source": [
    "import pandas as pd\n",
    "# Carregando dados\n",
    "import glob\n",
    "\n",
    "def df_all_folder(path,sufixo=\"_tweets.csv\"):\n",
    "    all_files = glob.glob(path + \"*\"+sufixo)\n",
    "    li = []    \n",
    "    \n",
    "    for filename in all_files:\n",
    "        df = pd.read_csv(filename, index_col=0)\n",
    "        if \"janones\" not in filename: \n",
    "            li.append(df)\n",
    "    names = []\n",
    "    for filename in all_files:\n",
    "        x = filename.replace(path, \"\")\n",
    "        x = x.replace(sufixo, \"\")\n",
    "        names.append(x.replace(\" \",\"_\"))\n",
    "    return pd.concat(li, axis=0, keys =names).reset_index().rename(columns={'level_0': \"candidato\"})"
   ]
  },
  {
   "cell_type": "code",
   "execution_count": 35,
   "id": "b8408292",
   "metadata": {},
   "outputs": [
    {
     "data": {
      "text/html": [
       "<div>\n",
       "<style scoped>\n",
       "    .dataframe tbody tr th:only-of-type {\n",
       "        vertical-align: middle;\n",
       "    }\n",
       "\n",
       "    .dataframe tbody tr th {\n",
       "        vertical-align: top;\n",
       "    }\n",
       "\n",
       "    .dataframe thead th {\n",
       "        text-align: right;\n",
       "    }\n",
       "</style>\n",
       "<table border=\"1\" class=\"dataframe\">\n",
       "  <thead>\n",
       "    <tr style=\"text-align: right;\">\n",
       "      <th></th>\n",
       "      <th>candidato</th>\n",
       "      <th>level_1</th>\n",
       "      <th>text</th>\n",
       "      <th>id</th>\n",
       "      <th>retweets</th>\n",
       "      <th>replys</th>\n",
       "      <th>likes</th>\n",
       "      <th>author_id</th>\n",
       "      <th>source</th>\n",
       "      <th>lang</th>\n",
       "      <th>created_at</th>\n",
       "      <th>place_id</th>\n",
       "    </tr>\n",
       "  </thead>\n",
       "  <tbody>\n",
       "    <tr>\n",
       "      <th>0</th>\n",
       "      <td>dados/ultimos_100_tweets\\bivar</td>\n",
       "      <td>0</td>\n",
       "      <td>@fartosuely1 @_afadamadrinha @thinkmoreBrazil ...</td>\n",
       "      <td>1.537649e+18</td>\n",
       "      <td>1.0</td>\n",
       "      <td>0.0</td>\n",
       "      <td>1.0</td>\n",
       "      <td>1.410976e+18</td>\n",
       "      <td>Twitter for Android</td>\n",
       "      <td>pt</td>\n",
       "      <td>2022-06-17 04:11:17+00:00</td>\n",
       "      <td>NaN</td>\n",
       "    </tr>\n",
       "    <tr>\n",
       "      <th>1</th>\n",
       "      <td>dados/ultimos_100_tweets\\bivar</td>\n",
       "      <td>1</td>\n",
       "      <td>@ElenTorres10 Quem confia no Bivar?</td>\n",
       "      <td>1.537646e+18</td>\n",
       "      <td>0.0</td>\n",
       "      <td>0.0</td>\n",
       "      <td>0.0</td>\n",
       "      <td>2.387485e+08</td>\n",
       "      <td>Twitter for iPhone</td>\n",
       "      <td>pt</td>\n",
       "      <td>2022-06-17 04:00:30+00:00</td>\n",
       "      <td>NaN</td>\n",
       "    </tr>\n",
       "    <tr>\n",
       "      <th>2</th>\n",
       "      <td>dados/ultimos_100_tweets\\bivar</td>\n",
       "      <td>2</td>\n",
       "      <td>Moro pode escolher cargo para concorrer, diz o...</td>\n",
       "      <td>1.537646e+18</td>\n",
       "      <td>0.0</td>\n",
       "      <td>0.0</td>\n",
       "      <td>0.0</td>\n",
       "      <td>1.487306e+18</td>\n",
       "      <td>Twitter Web App</td>\n",
       "      <td>pt</td>\n",
       "      <td>2022-06-17 03:58:56+00:00</td>\n",
       "      <td>NaN</td>\n",
       "    </tr>\n",
       "    <tr>\n",
       "      <th>3</th>\n",
       "      <td>dados/ultimos_100_tweets\\bivar</td>\n",
       "      <td>3</td>\n",
       "      <td>@luzia74992679 Acorda Bivar, é Moro para Presi...</td>\n",
       "      <td>1.537646e+18</td>\n",
       "      <td>0.0</td>\n",
       "      <td>0.0</td>\n",
       "      <td>0.0</td>\n",
       "      <td>1.410976e+18</td>\n",
       "      <td>Twitter for Android</td>\n",
       "      <td>pt</td>\n",
       "      <td>2022-06-17 03:58:30+00:00</td>\n",
       "      <td>NaN</td>\n",
       "    </tr>\n",
       "    <tr>\n",
       "      <th>4</th>\n",
       "      <td>dados/ultimos_100_tweets\\bivar</td>\n",
       "      <td>4</td>\n",
       "      <td>Bivar pensa que todos são alienados, Moro para...</td>\n",
       "      <td>1.537645e+18</td>\n",
       "      <td>1.0</td>\n",
       "      <td>1.0</td>\n",
       "      <td>2.0</td>\n",
       "      <td>1.487306e+18</td>\n",
       "      <td>Twitter Web App</td>\n",
       "      <td>pt</td>\n",
       "      <td>2022-06-17 03:54:36+00:00</td>\n",
       "      <td>NaN</td>\n",
       "    </tr>\n",
       "    <tr>\n",
       "      <th>...</th>\n",
       "      <td>...</td>\n",
       "      <td>...</td>\n",
       "      <td>...</td>\n",
       "      <td>...</td>\n",
       "      <td>...</td>\n",
       "      <td>...</td>\n",
       "      <td>...</td>\n",
       "      <td>...</td>\n",
       "      <td>...</td>\n",
       "      <td>...</td>\n",
       "      <td>...</td>\n",
       "      <td>...</td>\n",
       "    </tr>\n",
       "    <tr>\n",
       "      <th>1831</th>\n",
       "      <td>dados/ultimos_100_tweets\\sofia_manzano</td>\n",
       "      <td>95</td>\n",
       "      <td>@Anitta ANITTA VC PRECISA VER SOBRE A VERA LÚC...</td>\n",
       "      <td>1.546963e+18</td>\n",
       "      <td>0.0</td>\n",
       "      <td>0.0</td>\n",
       "      <td>0.0</td>\n",
       "      <td>1.460646e+18</td>\n",
       "      <td>Twitter for Android</td>\n",
       "      <td>pt</td>\n",
       "      <td>2022-07-12 21:02:57+00:00</td>\n",
       "      <td>NaN</td>\n",
       "    </tr>\n",
       "    <tr>\n",
       "      <th>1832</th>\n",
       "      <td>dados/ultimos_100_tweets\\sofia_manzano</td>\n",
       "      <td>96</td>\n",
       "      <td>Olá 👋 passando aqui para informar que a partir...</td>\n",
       "      <td>1.546962e+18</td>\n",
       "      <td>0.0</td>\n",
       "      <td>0.0</td>\n",
       "      <td>4.0</td>\n",
       "      <td>4.195617e+08</td>\n",
       "      <td>Twitter Web App</td>\n",
       "      <td>pt</td>\n",
       "      <td>2022-07-12 20:57:43+00:00</td>\n",
       "      <td>NaN</td>\n",
       "    </tr>\n",
       "    <tr>\n",
       "      <th>1833</th>\n",
       "      <td>dados/ultimos_100_tweets\\sofia_manzano</td>\n",
       "      <td>97</td>\n",
       "      <td>O dinheiro que a mona investiu pra superar a V...</td>\n",
       "      <td>1.546958e+18</td>\n",
       "      <td>0.0</td>\n",
       "      <td>1.0</td>\n",
       "      <td>1.0</td>\n",
       "      <td>1.158390e+18</td>\n",
       "      <td>Twitter for iPhone</td>\n",
       "      <td>pt</td>\n",
       "      <td>2022-07-12 20:40:36+00:00</td>\n",
       "      <td>NaN</td>\n",
       "    </tr>\n",
       "    <tr>\n",
       "      <th>1834</th>\n",
       "      <td>dados/ultimos_100_tweets\\sofia_manzano</td>\n",
       "      <td>98</td>\n",
       "      <td>Daqui a pouco, as 18h, a rádio web 2 de Julho ...</td>\n",
       "      <td>1.546957e+18</td>\n",
       "      <td>0.0</td>\n",
       "      <td>0.0</td>\n",
       "      <td>0.0</td>\n",
       "      <td>1.506264e+18</td>\n",
       "      <td>Twitter Web App</td>\n",
       "      <td>pt</td>\n",
       "      <td>2022-07-12 20:35:52+00:00</td>\n",
       "      <td>NaN</td>\n",
       "    </tr>\n",
       "    <tr>\n",
       "      <th>1835</th>\n",
       "      <td>dados/ultimos_100_tweets\\sofia_manzano</td>\n",
       "      <td>99</td>\n",
       "      <td>@simonetebetbr Tebet, polarização era PT x PSD...</td>\n",
       "      <td>1.546939e+18</td>\n",
       "      <td>0.0</td>\n",
       "      <td>2.0</td>\n",
       "      <td>33.0</td>\n",
       "      <td>1.370875e+08</td>\n",
       "      <td>Twitter for Android</td>\n",
       "      <td>pt</td>\n",
       "      <td>2022-07-12 19:28:08+00:00</td>\n",
       "      <td>NaN</td>\n",
       "    </tr>\n",
       "  </tbody>\n",
       "</table>\n",
       "<p>1836 rows × 12 columns</p>\n",
       "</div>"
      ],
      "text/plain": [
       "                                   candidato  ...  place_id\n",
       "0             dados/ultimos_100_tweets\\bivar  ...       NaN\n",
       "1             dados/ultimos_100_tweets\\bivar  ...       NaN\n",
       "2             dados/ultimos_100_tweets\\bivar  ...       NaN\n",
       "3             dados/ultimos_100_tweets\\bivar  ...       NaN\n",
       "4             dados/ultimos_100_tweets\\bivar  ...       NaN\n",
       "...                                      ...  ...       ...\n",
       "1831  dados/ultimos_100_tweets\\sofia_manzano  ...       NaN\n",
       "1832  dados/ultimos_100_tweets\\sofia_manzano  ...       NaN\n",
       "1833  dados/ultimos_100_tweets\\sofia_manzano  ...       NaN\n",
       "1834  dados/ultimos_100_tweets\\sofia_manzano  ...       NaN\n",
       "1835  dados/ultimos_100_tweets\\sofia_manzano  ...       NaN\n",
       "\n",
       "[1836 rows x 12 columns]"
      ]
     },
     "execution_count": 35,
     "metadata": {},
     "output_type": "execute_result"
    }
   ],
   "source": [
    "df = df_all_folder(\"dados/ultimos_100_tweets/\")\n",
    "df"
   ]
  },
  {
   "cell_type": "code",
   "execution_count": 36,
   "id": "75c0ca99",
   "metadata": {},
   "outputs": [
    {
     "name": "stderr",
     "output_type": "stream",
     "text": [
      "[nltk_data] Downloading package punkt to\n",
      "[nltk_data]     C:\\Users\\eduar\\AppData\\Roaming\\nltk_data...\n",
      "[nltk_data]   Package punkt is already up-to-date!\n"
     ]
    },
    {
     "data": {
      "text/plain": [
       "True"
      ]
     },
     "execution_count": 36,
     "metadata": {},
     "output_type": "execute_result"
    }
   ],
   "source": [
    "import nltk\n",
    "nltk.download('punkt')"
   ]
  },
  {
   "cell_type": "code",
   "execution_count": 37,
   "id": "46df581c",
   "metadata": {},
   "outputs": [
    {
     "name": "stderr",
     "output_type": "stream",
     "text": [
      "[nltk_data] Downloading package stopwords to\n",
      "[nltk_data]     C:\\Users\\eduar\\AppData\\Roaming\\nltk_data...\n",
      "[nltk_data]   Package stopwords is already up-to-date!\n"
     ]
    },
    {
     "data": {
      "text/plain": [
       "True"
      ]
     },
     "execution_count": 37,
     "metadata": {},
     "output_type": "execute_result"
    }
   ],
   "source": [
    "nltk.download('stopwords')"
   ]
  },
  {
   "cell_type": "code",
   "execution_count": 38,
   "id": "5e6ddf32",
   "metadata": {},
   "outputs": [],
   "source": [
    "df = df[df['text'].notna()]"
   ]
  },
  {
   "cell_type": "code",
   "execution_count": 39,
   "id": "39f6c250",
   "metadata": {},
   "outputs": [
    {
     "data": {
      "text/plain": [
       "0       thinkmorebrazil deltanmd acorda bivar moro pre...\n",
       "1                                            confia bivar\n",
       "2       moro pode escolher cargo concorrer diz preside...\n",
       "3                            acorda bivar moro presidente\n",
       "4       bivar pensa todos alienados moro governador pr...\n",
       "                              ...                        \n",
       "1831    anitta anitta vc precisa ver sobre vera lúcia ...\n",
       "1832    olá passando aqui informar partir semana pré p...\n",
       "1833    dinheiro mona investiu pra superar vera lúcia ...\n",
       "1834    daqui pouco rádio web julho reapresenta entrev...\n",
       "1835    simonetebetbr tebet polarização pt x psdb bols...\n",
       "Length: 1738, dtype: object"
      ]
     },
     "execution_count": 39,
     "metadata": {},
     "output_type": "execute_result"
    }
   ],
   "source": [
    "from nltk.corpus import stopwords\n",
    "from nltk.tokenize import word_tokenize\n",
    " \n",
    "def remove_stop_words(text):\n",
    "    text = word_tokenize(text.lower())\n",
    "    stop_words = set(stopwords.words('portuguese'))\n",
    "    text = [word for word in text if word.isalpha() and not word in stop_words]\n",
    "    return ' '.join(text)\n",
    "     \n",
    "x = df.apply(lambda row: remove_stop_words(row['text']), axis=1)\n",
    "x\n"
   ]
  },
  {
   "cell_type": "code",
   "execution_count": 40,
   "id": "e2f3ddf0",
   "metadata": {},
   "outputs": [],
   "source": [
    "# x_test = x[0:int(len(x)*0.3)]\n",
    "# x_trein = x[int(len(x)*0.3):len(x)]"
   ]
  },
  {
   "cell_type": "code",
   "execution_count": 41,
   "id": "b487c57d",
   "metadata": {},
   "outputs": [
    {
     "data": {
      "text/plain": [
       "0       NT\n",
       "1       NG\n",
       "2       NG\n",
       "3       NG\n",
       "4       NG\n",
       "        ..\n",
       "1734    PS\n",
       "1735    NT\n",
       "1736    NT\n",
       "1737    NT\n",
       "1738    NT\n",
       "Name: level_1, Length: 1738, dtype: object"
      ]
     },
     "execution_count": 41,
     "metadata": {},
     "output_type": "execute_result"
    }
   ],
   "source": [
    "y = df_all_folder(\"dados/ultimos_100_tweets/\",sufixo='_labeled.csv')['level_1'].dropna().apply(lambda x : x.upper())\n",
    "y"
   ]
  },
  {
   "cell_type": "code",
   "execution_count": 42,
   "id": "503a8f53",
   "metadata": {},
   "outputs": [
    {
     "data": {
      "text/plain": [
       "0       1\n",
       "1       0\n",
       "2       0\n",
       "3       0\n",
       "4       0\n",
       "       ..\n",
       "1734    2\n",
       "1735    1\n",
       "1736    1\n",
       "1737    1\n",
       "1738    1\n",
       "Name: level_1, Length: 1738, dtype: int64"
      ]
     },
     "execution_count": 42,
     "metadata": {},
     "output_type": "execute_result"
    }
   ],
   "source": [
    "y = y.apply(lambda x: 0 if x == 'NG' else 1 if x == 'NT' else 2)\n",
    "y"
   ]
  },
  {
   "cell_type": "code",
   "execution_count": 43,
   "id": "e8366ed0",
   "metadata": {},
   "outputs": [],
   "source": [
    "from keras.preprocessing.text import Tokenizer\n",
    "from keras_preprocessing.sequence import pad_sequences\n",
    "\n",
    "def tokenizar(x):\n",
    "    max_words = 20000\n",
    "    \n",
    "    tokenizer = Tokenizer(num_words=max_words)\n",
    "    tokenizer.fit_on_texts(x)\n",
    "    sequences = tokenizer.texts_to_sequences(x)\n",
    "    return pad_sequences(sequences, maxlen=500)\n",
    "x = tokenizar(x)"
   ]
  },
  {
   "cell_type": "code",
   "execution_count": 44,
   "id": "c86d8617",
   "metadata": {},
   "outputs": [
    {
     "data": {
      "text/plain": [
       "0       0\n",
       "1       0\n",
       "2       0\n",
       "3       0\n",
       "4       0\n",
       "       ..\n",
       "1734    1\n",
       "1735    0\n",
       "1736    0\n",
       "1737    0\n",
       "1738    0\n",
       "Name: level_1, Length: 1738, dtype: int64"
      ]
     },
     "execution_count": 44,
     "metadata": {},
     "output_type": "execute_result"
    }
   ],
   "source": [
    "import numpy as np\n",
    "new_y = y.copy()\n",
    "new_y = new_y.apply(lambda x: 1 if x == 2 else 0)\n",
    "new_y"
   ]
  },
  {
   "cell_type": "code",
   "execution_count": 45,
   "id": "b4856778",
   "metadata": {},
   "outputs": [],
   "source": [
    "y_test = y[0:int(len(y)*0.3)]\n",
    "y_trein = y[int(len(y)*0.3):len(y)]\n",
    "x_test = x[0:int(len(x)*0.3)]\n",
    "x_trein = x[int(len(x)*0.3):len(x)]\n",
    "y_test_n = new_y[0:int(len(new_y)*0.3)]\n",
    "y_trein_n = new_y[int(len(new_y)*0.3):len(new_y)]"
   ]
  },
  {
   "cell_type": "code",
   "execution_count": 46,
   "id": "c94e8472",
   "metadata": {},
   "outputs": [],
   "source": [
    "import tensorflow as tf\n",
    "from keras.models import Sequential\n",
    "from keras.layers import Dense, Flatten, LSTM, Masking, Conv1D, MaxPool1D, GRU\n",
    "from keras.layers import Embedding\n",
    "from keras.metrics import Precision, Recall\n",
    " \n",
    "model = Sequential() \n",
    "model.add(Embedding(20000, 32, input_length=500)) \n",
    "model.add(Masking(mask_value=0.0))\n",
    "model.add(LSTM(32, return_sequences=True))\n",
    "model.add(LSTM(32, return_sequences=True))\n",
    "model.add(LSTM(32, return_sequences=True))\n",
    "model.add(LSTM(32, return_sequences=True))\n",
    "model.add(LSTM(32, return_sequences=False))\n",
    "model.add(Dense(64, activation='relu'))\n",
    "model.add(Dense(64, activation='relu'))\n",
    "model.add(Dense(1))\n",
    "model.compile(optimizer='adam', loss=tf.keras.losses.BinaryCrossentropy(from_logits=True), metrics=['accuracy'])"
   ]
  },
  {
   "cell_type": "code",
   "execution_count": 47,
   "id": "eabbbefb",
   "metadata": {},
   "outputs": [
    {
     "name": "stdout",
     "output_type": "stream",
     "text": [
      "(None, 500) <dtype: 'float32'>\n",
      "(None, 1) <dtype: 'float32'>\n"
     ]
    },
    {
     "data": {
      "text/plain": [
       "[None]"
      ]
     },
     "execution_count": 47,
     "metadata": {},
     "output_type": "execute_result"
    }
   ],
   "source": [
    "[print(i.shape, i.dtype) for i in model.inputs]\n",
    "[print(o.shape, o.dtype) for o in model.outputs]"
   ]
  },
  {
   "cell_type": "code",
   "execution_count": 48,
   "id": "3658ba02",
   "metadata": {},
   "outputs": [
    {
     "name": "stdout",
     "output_type": "stream",
     "text": [
      "Epoch 1/20\n",
      "39/39 [==============================] - 47s 146ms/step - loss: 0.6076 - accuracy: 0.7354\n",
      "Epoch 2/20\n",
      "39/39 [==============================] - 6s 153ms/step - loss: 0.5794 - accuracy: 0.7354\n",
      "Epoch 3/20\n",
      "39/39 [==============================] - 6s 153ms/step - loss: 0.5348 - accuracy: 0.7609\n",
      "Epoch 4/20\n",
      "39/39 [==============================] - 6s 154ms/step - loss: 0.3733 - accuracy: 0.8578\n",
      "Epoch 5/20\n",
      "39/39 [==============================] - 6s 158ms/step - loss: 0.2284 - accuracy: 0.9236\n",
      "Epoch 6/20\n",
      "39/39 [==============================] - 7s 168ms/step - loss: 0.1755 - accuracy: 0.9326\n",
      "Epoch 7/20\n",
      "39/39 [==============================] - 7s 175ms/step - loss: 0.1524 - accuracy: 0.9491\n",
      "Epoch 8/20\n",
      "39/39 [==============================] - 7s 184ms/step - loss: 0.1252 - accuracy: 0.9606\n",
      "Epoch 9/20\n",
      "39/39 [==============================] - 7s 182ms/step - loss: 0.1083 - accuracy: 0.9655\n",
      "Epoch 10/20\n",
      "39/39 [==============================] - 8s 199ms/step - loss: 0.0939 - accuracy: 0.9696\n",
      "Epoch 11/20\n",
      "39/39 [==============================] - 6s 164ms/step - loss: 0.0936 - accuracy: 0.9696\n",
      "Epoch 12/20\n",
      "39/39 [==============================] - 7s 167ms/step - loss: 0.0763 - accuracy: 0.9795\n",
      "Epoch 13/20\n",
      "39/39 [==============================] - 8s 215ms/step - loss: 0.0747 - accuracy: 0.9762\n",
      "Epoch 14/20\n",
      "39/39 [==============================] - 10s 259ms/step - loss: 0.0926 - accuracy: 0.9688\n",
      "Epoch 15/20\n",
      "39/39 [==============================] - 12s 304ms/step - loss: 0.0644 - accuracy: 0.9795\n",
      "Epoch 16/20\n",
      "39/39 [==============================] - 13s 319ms/step - loss: 0.0714 - accuracy: 0.9762\n",
      "Epoch 17/20\n",
      "39/39 [==============================] - 11s 290ms/step - loss: 0.0659 - accuracy: 0.9786\n",
      "Epoch 18/20\n",
      "39/39 [==============================] - 13s 335ms/step - loss: 0.0573 - accuracy: 0.9811\n",
      "Epoch 19/20\n",
      "39/39 [==============================] - 12s 299ms/step - loss: 0.0499 - accuracy: 0.9811\n",
      "Epoch 20/20\n",
      "39/39 [==============================] - 12s 307ms/step - loss: 0.0624 - accuracy: 0.9811\n"
     ]
    },
    {
     "data": {
      "text/plain": [
       "<keras.callbacks.History at 0x2238ebcad30>"
      ]
     },
     "execution_count": 48,
     "metadata": {},
     "output_type": "execute_result"
    }
   ],
   "source": [
    "model.fit(x_trein, y_trein_n, epochs=12, verbose=1)"
   ]
  },
  {
   "cell_type": "code",
   "execution_count": 49,
   "id": "2b92a860",
   "metadata": {},
   "outputs": [
    {
     "name": "stdout",
     "output_type": "stream",
     "text": [
      "17/17 [==============================] - 14s 90ms/step - loss: 1.0364 - accuracy: 0.7274\n"
     ]
    },
    {
     "data": {
      "text/plain": [
       "[1.0364288091659546, 0.7274472117424011]"
      ]
     },
     "execution_count": 49,
     "metadata": {},
     "output_type": "execute_result"
    }
   ],
   "source": [
    "model.evaluate(np.array(x_test),np.array(y_test_n))"
   ]
  }
 ],
 "metadata": {
  "kernelspec": {
   "display_name": "Python 3 (ipykernel)",
   "language": "python",
   "name": "python3"
  },
  "language_info": {
   "codemirror_mode": {
    "name": "ipython",
    "version": 3
   },
   "file_extension": ".py",
   "mimetype": "text/x-python",
   "name": "python",
   "nbconvert_exporter": "python",
   "pygments_lexer": "ipython3",
   "version": "3.10.0"
  },
  "vscode": {
   "interpreter": {
    "hash": "21a407025843636f3b028dfaad46d04f666c39c3a1b6ea6cad8fbbfbaa2acc05"
   }
  }
 },
 "nbformat": 4,
 "nbformat_minor": 5
}
