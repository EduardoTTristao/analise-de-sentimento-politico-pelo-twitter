{
 "cells": [
  {
   "cell_type": "markdown",
   "id": "c90ddea4",
   "metadata": {},
   "source": [
    "# Processamento dos dados\n",
    "\n",
    "## Abertura dos tweets\n",
    "\n",
    "O dataframe consiste de 200 tweets para cada candidato."
   ]
  },
  {
   "cell_type": "code",
   "execution_count": 141,
   "id": "4b0e41fd",
   "metadata": {},
   "outputs": [],
   "source": [
    "import pandas as pd\n",
    "import glob\n",
    "\n",
    "def df_all_folder(path,sufixo=\"_tweets.csv\"):\n",
    "    all_files = glob.glob(path + \"*\"+sufixo)\n",
    "    li = []    \n",
    "    \n",
    "    for filename in all_files:\n",
    "        df = pd.read_csv(filename, index_col=0)\n",
    "        if \"janones\" not in filename: \n",
    "            li.append(df)\n",
    "    names = []\n",
    "    for filename in all_files:\n",
    "        x = filename.replace(path, \"\")\n",
    "        x = x.replace(sufixo, \"\")\n",
    "        names.append(x.replace(\" \",\"_\"))\n",
    "    return pd.concat(li, axis=0, keys =names).reset_index().rename(columns={'level_0': \"candidato\"})"
   ]
  },
  {
   "cell_type": "code",
   "execution_count": 142,
   "id": "b8408292",
   "metadata": {},
   "outputs": [
    {
     "data": {
      "text/html": [
       "<div>\n",
       "<style scoped>\n",
       "    .dataframe tbody tr th:only-of-type {\n",
       "        vertical-align: middle;\n",
       "    }\n",
       "\n",
       "    .dataframe tbody tr th {\n",
       "        vertical-align: top;\n",
       "    }\n",
       "\n",
       "    .dataframe thead th {\n",
       "        text-align: right;\n",
       "    }\n",
       "</style>\n",
       "<table border=\"1\" class=\"dataframe\">\n",
       "  <thead>\n",
       "    <tr style=\"text-align: right;\">\n",
       "      <th></th>\n",
       "      <th>candidato</th>\n",
       "      <th>level_1</th>\n",
       "      <th>text</th>\n",
       "      <th>id</th>\n",
       "      <th>retweets</th>\n",
       "      <th>replys</th>\n",
       "      <th>likes</th>\n",
       "      <th>author_id</th>\n",
       "      <th>source</th>\n",
       "      <th>lang</th>\n",
       "      <th>created_at</th>\n",
       "      <th>place_id</th>\n",
       "    </tr>\n",
       "  </thead>\n",
       "  <tbody>\n",
       "    <tr>\n",
       "      <th>0</th>\n",
       "      <td>dados/ultimos_100_tweets\\bivar</td>\n",
       "      <td>0</td>\n",
       "      <td>@fartosuely1 @_afadamadrinha @thinkmoreBrazil ...</td>\n",
       "      <td>1.537649e+18</td>\n",
       "      <td>1.0</td>\n",
       "      <td>0.0</td>\n",
       "      <td>1.0</td>\n",
       "      <td>1.410976e+18</td>\n",
       "      <td>Twitter for Android</td>\n",
       "      <td>pt</td>\n",
       "      <td>2022-06-17 04:11:17+00:00</td>\n",
       "      <td>NaN</td>\n",
       "    </tr>\n",
       "    <tr>\n",
       "      <th>1</th>\n",
       "      <td>dados/ultimos_100_tweets\\bivar</td>\n",
       "      <td>1</td>\n",
       "      <td>@ElenTorres10 Quem confia no Bivar?</td>\n",
       "      <td>1.537646e+18</td>\n",
       "      <td>0.0</td>\n",
       "      <td>0.0</td>\n",
       "      <td>0.0</td>\n",
       "      <td>2.387485e+08</td>\n",
       "      <td>Twitter for iPhone</td>\n",
       "      <td>pt</td>\n",
       "      <td>2022-06-17 04:00:30+00:00</td>\n",
       "      <td>NaN</td>\n",
       "    </tr>\n",
       "    <tr>\n",
       "      <th>2</th>\n",
       "      <td>dados/ultimos_100_tweets\\bivar</td>\n",
       "      <td>2</td>\n",
       "      <td>Moro pode escolher cargo para concorrer, diz o...</td>\n",
       "      <td>1.537646e+18</td>\n",
       "      <td>0.0</td>\n",
       "      <td>0.0</td>\n",
       "      <td>0.0</td>\n",
       "      <td>1.487306e+18</td>\n",
       "      <td>Twitter Web App</td>\n",
       "      <td>pt</td>\n",
       "      <td>2022-06-17 03:58:56+00:00</td>\n",
       "      <td>NaN</td>\n",
       "    </tr>\n",
       "    <tr>\n",
       "      <th>3</th>\n",
       "      <td>dados/ultimos_100_tweets\\bivar</td>\n",
       "      <td>3</td>\n",
       "      <td>@luzia74992679 Acorda Bivar, é Moro para Presi...</td>\n",
       "      <td>1.537646e+18</td>\n",
       "      <td>0.0</td>\n",
       "      <td>0.0</td>\n",
       "      <td>0.0</td>\n",
       "      <td>1.410976e+18</td>\n",
       "      <td>Twitter for Android</td>\n",
       "      <td>pt</td>\n",
       "      <td>2022-06-17 03:58:30+00:00</td>\n",
       "      <td>NaN</td>\n",
       "    </tr>\n",
       "    <tr>\n",
       "      <th>4</th>\n",
       "      <td>dados/ultimos_100_tweets\\bivar</td>\n",
       "      <td>4</td>\n",
       "      <td>Bivar pensa que todos são alienados, Moro para...</td>\n",
       "      <td>1.537645e+18</td>\n",
       "      <td>1.0</td>\n",
       "      <td>1.0</td>\n",
       "      <td>2.0</td>\n",
       "      <td>1.487306e+18</td>\n",
       "      <td>Twitter Web App</td>\n",
       "      <td>pt</td>\n",
       "      <td>2022-06-17 03:54:36+00:00</td>\n",
       "      <td>NaN</td>\n",
       "    </tr>\n",
       "    <tr>\n",
       "      <th>...</th>\n",
       "      <td>...</td>\n",
       "      <td>...</td>\n",
       "      <td>...</td>\n",
       "      <td>...</td>\n",
       "      <td>...</td>\n",
       "      <td>...</td>\n",
       "      <td>...</td>\n",
       "      <td>...</td>\n",
       "      <td>...</td>\n",
       "      <td>...</td>\n",
       "      <td>...</td>\n",
       "      <td>...</td>\n",
       "    </tr>\n",
       "    <tr>\n",
       "      <th>1831</th>\n",
       "      <td>dados/ultimos_100_tweets\\sofia_manzano</td>\n",
       "      <td>95</td>\n",
       "      <td>@Anitta ANITTA VC PRECISA VER SOBRE A VERA LÚC...</td>\n",
       "      <td>1.546963e+18</td>\n",
       "      <td>0.0</td>\n",
       "      <td>0.0</td>\n",
       "      <td>0.0</td>\n",
       "      <td>1.460646e+18</td>\n",
       "      <td>Twitter for Android</td>\n",
       "      <td>pt</td>\n",
       "      <td>2022-07-12 21:02:57+00:00</td>\n",
       "      <td>NaN</td>\n",
       "    </tr>\n",
       "    <tr>\n",
       "      <th>1832</th>\n",
       "      <td>dados/ultimos_100_tweets\\sofia_manzano</td>\n",
       "      <td>96</td>\n",
       "      <td>Olá 👋 passando aqui para informar que a partir...</td>\n",
       "      <td>1.546962e+18</td>\n",
       "      <td>0.0</td>\n",
       "      <td>0.0</td>\n",
       "      <td>4.0</td>\n",
       "      <td>4.195617e+08</td>\n",
       "      <td>Twitter Web App</td>\n",
       "      <td>pt</td>\n",
       "      <td>2022-07-12 20:57:43+00:00</td>\n",
       "      <td>NaN</td>\n",
       "    </tr>\n",
       "    <tr>\n",
       "      <th>1833</th>\n",
       "      <td>dados/ultimos_100_tweets\\sofia_manzano</td>\n",
       "      <td>97</td>\n",
       "      <td>O dinheiro que a mona investiu pra superar a V...</td>\n",
       "      <td>1.546958e+18</td>\n",
       "      <td>0.0</td>\n",
       "      <td>1.0</td>\n",
       "      <td>1.0</td>\n",
       "      <td>1.158390e+18</td>\n",
       "      <td>Twitter for iPhone</td>\n",
       "      <td>pt</td>\n",
       "      <td>2022-07-12 20:40:36+00:00</td>\n",
       "      <td>NaN</td>\n",
       "    </tr>\n",
       "    <tr>\n",
       "      <th>1834</th>\n",
       "      <td>dados/ultimos_100_tweets\\sofia_manzano</td>\n",
       "      <td>98</td>\n",
       "      <td>Daqui a pouco, as 18h, a rádio web 2 de Julho ...</td>\n",
       "      <td>1.546957e+18</td>\n",
       "      <td>0.0</td>\n",
       "      <td>0.0</td>\n",
       "      <td>0.0</td>\n",
       "      <td>1.506264e+18</td>\n",
       "      <td>Twitter Web App</td>\n",
       "      <td>pt</td>\n",
       "      <td>2022-07-12 20:35:52+00:00</td>\n",
       "      <td>NaN</td>\n",
       "    </tr>\n",
       "    <tr>\n",
       "      <th>1835</th>\n",
       "      <td>dados/ultimos_100_tweets\\sofia_manzano</td>\n",
       "      <td>99</td>\n",
       "      <td>@simonetebetbr Tebet, polarização era PT x PSD...</td>\n",
       "      <td>1.546939e+18</td>\n",
       "      <td>0.0</td>\n",
       "      <td>2.0</td>\n",
       "      <td>33.0</td>\n",
       "      <td>1.370875e+08</td>\n",
       "      <td>Twitter for Android</td>\n",
       "      <td>pt</td>\n",
       "      <td>2022-07-12 19:28:08+00:00</td>\n",
       "      <td>NaN</td>\n",
       "    </tr>\n",
       "  </tbody>\n",
       "</table>\n",
       "<p>1836 rows × 12 columns</p>\n",
       "</div>"
      ],
      "text/plain": [
       "                                   candidato  level_1  \\\n",
       "0             dados/ultimos_100_tweets\\bivar        0   \n",
       "1             dados/ultimos_100_tweets\\bivar        1   \n",
       "2             dados/ultimos_100_tweets\\bivar        2   \n",
       "3             dados/ultimos_100_tweets\\bivar        3   \n",
       "4             dados/ultimos_100_tweets\\bivar        4   \n",
       "...                                      ...      ...   \n",
       "1831  dados/ultimos_100_tweets\\sofia_manzano       95   \n",
       "1832  dados/ultimos_100_tweets\\sofia_manzano       96   \n",
       "1833  dados/ultimos_100_tweets\\sofia_manzano       97   \n",
       "1834  dados/ultimos_100_tweets\\sofia_manzano       98   \n",
       "1835  dados/ultimos_100_tweets\\sofia_manzano       99   \n",
       "\n",
       "                                                   text            id  \\\n",
       "0     @fartosuely1 @_afadamadrinha @thinkmoreBrazil ...  1.537649e+18   \n",
       "1                   @ElenTorres10 Quem confia no Bivar?  1.537646e+18   \n",
       "2     Moro pode escolher cargo para concorrer, diz o...  1.537646e+18   \n",
       "3     @luzia74992679 Acorda Bivar, é Moro para Presi...  1.537646e+18   \n",
       "4     Bivar pensa que todos são alienados, Moro para...  1.537645e+18   \n",
       "...                                                 ...           ...   \n",
       "1831  @Anitta ANITTA VC PRECISA VER SOBRE A VERA LÚC...  1.546963e+18   \n",
       "1832  Olá 👋 passando aqui para informar que a partir...  1.546962e+18   \n",
       "1833  O dinheiro que a mona investiu pra superar a V...  1.546958e+18   \n",
       "1834  Daqui a pouco, as 18h, a rádio web 2 de Julho ...  1.546957e+18   \n",
       "1835  @simonetebetbr Tebet, polarização era PT x PSD...  1.546939e+18   \n",
       "\n",
       "      retweets  replys  likes     author_id               source lang  \\\n",
       "0          1.0     0.0    1.0  1.410976e+18  Twitter for Android   pt   \n",
       "1          0.0     0.0    0.0  2.387485e+08   Twitter for iPhone   pt   \n",
       "2          0.0     0.0    0.0  1.487306e+18      Twitter Web App   pt   \n",
       "3          0.0     0.0    0.0  1.410976e+18  Twitter for Android   pt   \n",
       "4          1.0     1.0    2.0  1.487306e+18      Twitter Web App   pt   \n",
       "...        ...     ...    ...           ...                  ...  ...   \n",
       "1831       0.0     0.0    0.0  1.460646e+18  Twitter for Android   pt   \n",
       "1832       0.0     0.0    4.0  4.195617e+08      Twitter Web App   pt   \n",
       "1833       0.0     1.0    1.0  1.158390e+18   Twitter for iPhone   pt   \n",
       "1834       0.0     0.0    0.0  1.506264e+18      Twitter Web App   pt   \n",
       "1835       0.0     2.0   33.0  1.370875e+08  Twitter for Android   pt   \n",
       "\n",
       "                     created_at place_id  \n",
       "0     2022-06-17 04:11:17+00:00      NaN  \n",
       "1     2022-06-17 04:00:30+00:00      NaN  \n",
       "2     2022-06-17 03:58:56+00:00      NaN  \n",
       "3     2022-06-17 03:58:30+00:00      NaN  \n",
       "4     2022-06-17 03:54:36+00:00      NaN  \n",
       "...                         ...      ...  \n",
       "1831  2022-07-12 21:02:57+00:00      NaN  \n",
       "1832  2022-07-12 20:57:43+00:00      NaN  \n",
       "1833  2022-07-12 20:40:36+00:00      NaN  \n",
       "1834  2022-07-12 20:35:52+00:00      NaN  \n",
       "1835  2022-07-12 19:28:08+00:00      NaN  \n",
       "\n",
       "[1836 rows x 12 columns]"
      ]
     },
     "execution_count": 142,
     "metadata": {},
     "output_type": "execute_result"
    }
   ],
   "source": [
    "df = df_all_folder(\"dados/ultimos_100_tweets/\")\n",
    "df"
   ]
  },
  {
   "cell_type": "markdown",
   "id": "3bcdf09b",
   "metadata": {},
   "source": [
    "## Retirando stopwords"
   ]
  },
  {
   "cell_type": "code",
   "execution_count": 143,
   "id": "75c0ca99",
   "metadata": {},
   "outputs": [
    {
     "name": "stderr",
     "output_type": "stream",
     "text": [
      "[nltk_data] Downloading package punkt to\n",
      "[nltk_data]     C:\\Users\\eduar\\AppData\\Roaming\\nltk_data...\n",
      "[nltk_data]   Package punkt is already up-to-date!\n"
     ]
    },
    {
     "data": {
      "text/plain": [
       "True"
      ]
     },
     "execution_count": 143,
     "metadata": {},
     "output_type": "execute_result"
    }
   ],
   "source": [
    "import nltk\n",
    "nltk.download('punkt')"
   ]
  },
  {
   "cell_type": "code",
   "execution_count": 144,
   "id": "46df581c",
   "metadata": {},
   "outputs": [
    {
     "name": "stderr",
     "output_type": "stream",
     "text": [
      "[nltk_data] Downloading package stopwords to\n",
      "[nltk_data]     C:\\Users\\eduar\\AppData\\Roaming\\nltk_data...\n",
      "[nltk_data]   Package stopwords is already up-to-date!\n"
     ]
    },
    {
     "data": {
      "text/plain": [
       "True"
      ]
     },
     "execution_count": 144,
     "metadata": {},
     "output_type": "execute_result"
    }
   ],
   "source": [
    "nltk.download('stopwords')"
   ]
  },
  {
   "cell_type": "code",
   "execution_count": 145,
   "id": "5e6ddf32",
   "metadata": {},
   "outputs": [],
   "source": [
    "df = df[df['text'].notna()]"
   ]
  },
  {
   "cell_type": "code",
   "execution_count": 146,
   "id": "39f6c250",
   "metadata": {},
   "outputs": [
    {
     "data": {
      "text/plain": [
       "0       thinkmorebrazil deltanmd acorda bivar moro pre...\n",
       "1                                            confia bivar\n",
       "2       moro pode escolher cargo concorrer diz preside...\n",
       "3                            acorda bivar moro presidente\n",
       "4       bivar pensa todos alienados moro governador pr...\n",
       "                              ...                        \n",
       "1831    anitta anitta vc precisa ver sobre vera lúcia ...\n",
       "1832    olá passando aqui informar partir semana pré p...\n",
       "1833    dinheiro mona investiu pra superar vera lúcia ...\n",
       "1834    daqui pouco rádio web julho reapresenta entrev...\n",
       "1835    simonetebetbr tebet polarização pt x psdb bols...\n",
       "Length: 1738, dtype: object"
      ]
     },
     "execution_count": 146,
     "metadata": {},
     "output_type": "execute_result"
    }
   ],
   "source": [
    "from nltk.corpus import stopwords\n",
    "from nltk.tokenize import word_tokenize\n",
    " \n",
    "def remove_stop_words(text):\n",
    "    text = word_tokenize(text.lower())\n",
    "    stop_words = set(stopwords.words('portuguese'))\n",
    "    text = [word for word in text if word.isalpha() and not word in stop_words]\n",
    "    return ' '.join(text)\n",
    "     \n",
    "x = df.apply(lambda row: remove_stop_words(row['text']), axis=1)\n",
    "x\n"
   ]
  },
  {
   "cell_type": "markdown",
   "id": "2555254c",
   "metadata": {},
   "source": [
    "## Leitura dos labels\n",
    "\n",
    "Leitura dos labels categorizados manualmente. Cada tweet foi categorizado com NT = neutro, PS = positivo e NG = negativo. Após a leitura do data_set os labels foram transformados em numeros. Zero representando os tweets negativos, um os tweets neutros e dois os tweets positivos."
   ]
  },
  {
   "cell_type": "code",
   "execution_count": 92,
   "id": "b487c57d",
   "metadata": {
    "scrolled": true
   },
   "outputs": [
    {
     "data": {
      "text/plain": [
       "0       NT\n",
       "1       NG\n",
       "2       NG\n",
       "3       NG\n",
       "4       NG\n",
       "        ..\n",
       "1734    PS\n",
       "1735    NT\n",
       "1736    NT\n",
       "1737    NT\n",
       "1738    NT\n",
       "Name: level_1, Length: 1738, dtype: object"
      ]
     },
     "execution_count": 92,
     "metadata": {},
     "output_type": "execute_result"
    }
   ],
   "source": [
    "y = df_all_folder(\"dados/ultimos_100_tweets/\",sufixo='_labeled.csv')['level_1'].dropna().apply(lambda x : x.upper())\n",
    "y"
   ]
  },
  {
   "cell_type": "code",
   "execution_count": 93,
   "id": "503a8f53",
   "metadata": {},
   "outputs": [
    {
     "data": {
      "text/plain": [
       "0       1\n",
       "1       0\n",
       "2       0\n",
       "3       0\n",
       "4       0\n",
       "       ..\n",
       "1734    2\n",
       "1735    1\n",
       "1736    1\n",
       "1737    1\n",
       "1738    1\n",
       "Name: level_1, Length: 1738, dtype: int64"
      ]
     },
     "execution_count": 93,
     "metadata": {},
     "output_type": "execute_result"
    }
   ],
   "source": [
    "y = y.apply(lambda x: 0 if x == 'NG' else 1 if x == 'NT' else 2)\n",
    "y"
   ]
  },
  {
   "cell_type": "markdown",
   "id": "f6abe0f6",
   "metadata": {},
   "source": [
    "## Tokenização das palavras\n",
    "Após esses processamentos, foi tokenizado cada palavra dentro do texto."
   ]
  },
  {
   "cell_type": "code",
   "execution_count": 148,
   "id": "e8366ed0",
   "metadata": {},
   "outputs": [],
   "source": [
    "from keras.preprocessing.text import Tokenizer\n",
    "from keras_preprocessing.sequence import pad_sequences\n",
    "\n",
    "def tokenizar(x):\n",
    "    max_words = 100000\n",
    "    \n",
    "    tokenizer = Tokenizer(num_words=max_words)\n",
    "    tokenizer.fit_on_texts(x)\n",
    "    sequences = tokenizer.texts_to_sequences(x)\n",
    "    return pad_sequences(sequences, maxlen=500)\n",
    "x = tokenizar(x)"
   ]
  },
  {
   "cell_type": "markdown",
   "id": "d66aa69b",
   "metadata": {},
   "source": [
    "## Separação de teste e treino\n",
    "\n",
    "Tanto os labels quanto os textos foram separados em diferentes conjuntos. Um de treino e outro de teste. O de treino possui 70% dos dados e o de teste possui 30%."
   ]
  },
  {
   "cell_type": "code",
   "execution_count": 95,
   "id": "0c47ddde",
   "metadata": {},
   "outputs": [],
   "source": [
    "y_test = y[0:int(len(y)*0.3)]\n",
    "y_trein = y[int(len(y)*0.3):len(y)]\n",
    "x_test = x[0:int(len(x)*0.3)]\n",
    "x_trein = x[int(len(x)*0.3):len(x)]"
   ]
  },
  {
   "cell_type": "markdown",
   "id": "ee898938",
   "metadata": {},
   "source": [
    "# Criação de modelos\n",
    "## Criação do primeiro modelo\n",
    "\n",
    "O primeiro modelo para a tentativa de categorização de um tweet entre neutro, positivo e negativo foi uma rede neural composta de 5 camadas LSTM e 3 camadas densas. Os três neurônios de saída representam cada um humor de acordo com os numeros representados anteriormente."
   ]
  },
  {
   "cell_type": "code",
   "execution_count": 96,
   "id": "edd03738",
   "metadata": {},
   "outputs": [],
   "source": [
    "import tensorflow as tf\n",
    "from keras.models import Sequential\n",
    "from keras.layers import Dense, Flatten, LSTM, Masking, Conv1D, MaxPool1D, GRU\n",
    "from keras.layers import Embedding\n",
    "from keras.metrics import Precision, Recall\n",
    " \n",
    "model = Sequential() \n",
    "model.add(Embedding(100000, 32, input_length=500)) \n",
    "model.add(Masking(mask_value=0.0))\n",
    "model.add(LSTM(32, return_sequences=True))\n",
    "model.add(LSTM(32, return_sequences=True))\n",
    "model.add(LSTM(32, return_sequences=True))\n",
    "model.add(LSTM(32, return_sequences=True))\n",
    "model.add(LSTM(32, return_sequences=False))\n",
    "model.add(Dense(64, activation='relu'))\n",
    "model.add(Dense(64, activation='relu'))\n",
    "model.add(Dense(3, activation='sigmoid'))\n",
    "model.compile(optimizer=tf.keras.optimizers.Adam(),loss=tf.keras.losses.SparseCategoricalCrossentropy(), metrics=['accuracy'])"
   ]
  },
  {
   "cell_type": "code",
   "execution_count": 97,
   "id": "b432f25e",
   "metadata": {},
   "outputs": [
    {
     "name": "stdout",
     "output_type": "stream",
     "text": [
      "Epoch 1/20\n",
      "39/39 [==============================] - 33s 158ms/step - loss: 0.9938 - accuracy: 0.5785\n",
      "Epoch 2/20\n",
      "39/39 [==============================] - 6s 161ms/step - loss: 0.9652 - accuracy: 0.5809\n",
      "Epoch 3/20\n",
      "39/39 [==============================] - 6s 161ms/step - loss: 0.9246 - accuracy: 0.5916\n",
      "Epoch 4/20\n",
      "39/39 [==============================] - 6s 159ms/step - loss: 0.7338 - accuracy: 0.7017\n",
      "Epoch 5/20\n",
      "39/39 [==============================] - 6s 162ms/step - loss: 0.6535 - accuracy: 0.7453\n",
      "Epoch 6/20\n",
      "39/39 [==============================] - 6s 161ms/step - loss: 0.4962 - accuracy: 0.7872\n",
      "Epoch 7/20\n",
      "39/39 [==============================] - 7s 168ms/step - loss: 0.4545 - accuracy: 0.8053\n",
      "Epoch 8/20\n",
      "39/39 [==============================] - 7s 173ms/step - loss: 0.4303 - accuracy: 0.8077\n",
      "Epoch 9/20\n",
      "39/39 [==============================] - 7s 183ms/step - loss: 0.3811 - accuracy: 0.8406\n",
      "Epoch 10/20\n",
      "39/39 [==============================] - 8s 198ms/step - loss: 0.3558 - accuracy: 0.8718\n",
      "Epoch 11/20\n",
      "39/39 [==============================] - 7s 183ms/step - loss: 0.2903 - accuracy: 0.8989\n",
      "Epoch 12/20\n",
      "39/39 [==============================] - 9s 235ms/step - loss: 0.2389 - accuracy: 0.9178\n",
      "Epoch 13/20\n",
      "39/39 [==============================] - 8s 192ms/step - loss: 0.2060 - accuracy: 0.9277\n",
      "Epoch 14/20\n",
      "39/39 [==============================] - 7s 186ms/step - loss: 0.1901 - accuracy: 0.9376\n",
      "Epoch 15/20\n",
      "39/39 [==============================] - 7s 175ms/step - loss: 0.1637 - accuracy: 0.9400\n",
      "Epoch 16/20\n",
      "39/39 [==============================] - 6s 162ms/step - loss: 0.1654 - accuracy: 0.9384\n",
      "Epoch 17/20\n",
      "39/39 [==============================] - 7s 184ms/step - loss: 0.1600 - accuracy: 0.9392\n",
      "Epoch 18/20\n",
      "39/39 [==============================] - 7s 187ms/step - loss: 0.1425 - accuracy: 0.9466\n",
      "Epoch 19/20\n",
      "39/39 [==============================] - 7s 182ms/step - loss: 0.1635 - accuracy: 0.9392\n",
      "Epoch 20/20\n",
      "39/39 [==============================] - 6s 163ms/step - loss: 0.1429 - accuracy: 0.9491\n"
     ]
    },
    {
     "data": {
      "text/plain": [
       "<keras.callbacks.History at 0x164c893cb50>"
      ]
     },
     "execution_count": 97,
     "metadata": {},
     "output_type": "execute_result"
    }
   ],
   "source": [
    "model.fit(x_trein, y_trein, epochs=20, verbose=1)"
   ]
  },
  {
   "cell_type": "code",
   "execution_count": 98,
   "id": "7ea56aa4",
   "metadata": {},
   "outputs": [
    {
     "name": "stdout",
     "output_type": "stream",
     "text": [
      "17/17 [==============================] - 10s 65ms/step - loss: 2.3278 - accuracy: 0.4299\n"
     ]
    },
    {
     "data": {
      "text/plain": [
       "[2.327836036682129, 0.42994242906570435]"
      ]
     },
     "execution_count": 98,
     "metadata": {},
     "output_type": "execute_result"
    }
   ],
   "source": [
    "import numpy as np\n",
    "model.evaluate(np.array(x_test),np.array(y_test))"
   ]
  },
  {
   "cell_type": "markdown",
   "id": "be1e207e",
   "metadata": {},
   "source": [
    "## Criação do segundo e terceiro modelo\n",
    "\n",
    "Com o fracasso do modelo anterior, foi usado duas redes neurais que classificam somente para positivo ou somente para negativo, para fazer a rede aprender mais facilmente valores opostos. A segunda rede é identica a primeira tirando que o ultimo layer possui apenas um neurônio. Quanto maior ele aumenta a probabilidade de ser positivo(para a segunda) ou negativo(para a terceira)."
   ]
  },
  {
   "cell_type": "code",
   "execution_count": 121,
   "id": "c86d8617",
   "metadata": {},
   "outputs": [
    {
     "data": {
      "text/plain": [
       "0       0\n",
       "1       0\n",
       "2       0\n",
       "3       0\n",
       "4       0\n",
       "       ..\n",
       "1734    1\n",
       "1735    0\n",
       "1736    0\n",
       "1737    0\n",
       "1738    0\n",
       "Name: level_1, Length: 1738, dtype: int64"
      ]
     },
     "execution_count": 121,
     "metadata": {},
     "output_type": "execute_result"
    }
   ],
   "source": [
    "new_y = y.copy()\n",
    "new_y = new_y.apply(lambda x: 1 if x == 2 else 0)\n",
    "new_y"
   ]
  },
  {
   "cell_type": "code",
   "execution_count": 122,
   "id": "b4856778",
   "metadata": {},
   "outputs": [],
   "source": [
    "y_test_n = new_y[0:int(len(new_y)*0.3)]\n",
    "y_trein_n = new_y[int(len(new_y)*0.3):len(new_y)]"
   ]
  },
  {
   "cell_type": "code",
   "execution_count": 123,
   "id": "c94e8472",
   "metadata": {},
   "outputs": [],
   "source": [
    "import tensorflow as tf\n",
    "from keras.models import Sequential\n",
    "from keras.layers import Dense, Flatten, LSTM, Masking, Conv1D, MaxPool1D, GRU\n",
    "from keras.layers import Embedding\n",
    "from keras.metrics import Precision, Recall\n",
    " \n",
    "modelp = Sequential() \n",
    "modelp.add(Embedding(100000, 32, input_length=500)) \n",
    "modelp.add(Masking(mask_value=0.0))\n",
    "modelp.add(LSTM(32, return_sequences=True))\n",
    "modelp.add(LSTM(32, return_sequences=True))\n",
    "modelp.add(LSTM(32, return_sequences=True))\n",
    "modelp.add(LSTM(32, return_sequences=True))\n",
    "modelp.add(LSTM(32, return_sequences=False))\n",
    "modelp.add(Dense(64, activation='relu'))\n",
    "modelp.add(Dense(64, activation='relu'))\n",
    "modelp.add(Dense(1))\n",
    "modelp.compile(optimizer='adam', loss=tf.keras.losses.BinaryCrossentropy(from_logits=True), metrics=['accuracy'])"
   ]
  },
  {
   "cell_type": "code",
   "execution_count": 124,
   "id": "3658ba02",
   "metadata": {},
   "outputs": [
    {
     "name": "stdout",
     "output_type": "stream",
     "text": [
      "Epoch 1/12\n",
      "39/39 [==============================] - 38s 201ms/step - loss: 0.6117 - accuracy: 0.7354\n",
      "Epoch 2/12\n",
      "39/39 [==============================] - 8s 210ms/step - loss: 0.5810 - accuracy: 0.7354\n",
      "Epoch 3/12\n",
      "39/39 [==============================] - 7s 184ms/step - loss: 0.5239 - accuracy: 0.7494\n",
      "Epoch 4/12\n",
      "39/39 [==============================] - 8s 217ms/step - loss: 0.3916 - accuracy: 0.8422\n",
      "Epoch 5/12\n",
      "39/39 [==============================] - 9s 231ms/step - loss: 0.2445 - accuracy: 0.9088\n",
      "Epoch 6/12\n",
      "39/39 [==============================] - 10s 250ms/step - loss: 0.1882 - accuracy: 0.9384\n",
      "Epoch 7/12\n",
      "39/39 [==============================] - 7s 191ms/step - loss: 0.1492 - accuracy: 0.9491\n",
      "Epoch 8/12\n",
      "39/39 [==============================] - 7s 168ms/step - loss: 0.1304 - accuracy: 0.9589\n",
      "Epoch 9/12\n",
      "39/39 [==============================] - 8s 209ms/step - loss: 0.1140 - accuracy: 0.9638\n",
      "Epoch 10/12\n",
      "39/39 [==============================] - 8s 204ms/step - loss: 0.1155 - accuracy: 0.9614\n",
      "Epoch 11/12\n",
      "39/39 [==============================] - 7s 191ms/step - loss: 0.1016 - accuracy: 0.9680\n",
      "Epoch 12/12\n",
      "39/39 [==============================] - 8s 199ms/step - loss: 0.0858 - accuracy: 0.9778\n"
     ]
    },
    {
     "data": {
      "text/plain": [
       "<keras.callbacks.History at 0x16549b23a90>"
      ]
     },
     "execution_count": 124,
     "metadata": {},
     "output_type": "execute_result"
    }
   ],
   "source": [
    "modelp.fit(x_trein, y_trein_n, epochs=12, verbose=1)"
   ]
  },
  {
   "cell_type": "code",
   "execution_count": 125,
   "id": "2b92a860",
   "metadata": {},
   "outputs": [
    {
     "name": "stdout",
     "output_type": "stream",
     "text": [
      "17/17 [==============================] - 10s 69ms/step - loss: 0.9328 - accuracy: 0.7198\n"
     ]
    },
    {
     "data": {
      "text/plain": [
       "[0.9327571392059326, 0.7197696566581726]"
      ]
     },
     "execution_count": 125,
     "metadata": {},
     "output_type": "execute_result"
    }
   ],
   "source": [
    "modelp.evaluate(np.array(x_test),np.array(y_test_n))"
   ]
  },
  {
   "cell_type": "code",
   "execution_count": 126,
   "id": "fa9bdcd2",
   "metadata": {},
   "outputs": [
    {
     "name": "stdout",
     "output_type": "stream",
     "text": [
      "17/17 [==============================] - 9s 74ms/step\n"
     ]
    }
   ],
   "source": [
    "previsao1 = modelp.predict(np.array(x_test))"
   ]
  },
  {
   "cell_type": "code",
   "execution_count": 127,
   "id": "5dd1fea4",
   "metadata": {},
   "outputs": [],
   "source": [
    "def convert(num):\n",
    "    if num <=0.5:\n",
    "        return 0\n",
    "    else:\n",
    "        return 1\n",
    "\n",
    "arr_previsao = previsao1\n",
    "arr_real = y_test_n\n",
    "converter = np.vectorize(convert)\n",
    "arr_previsao = converter(arr_previsao)"
   ]
  },
  {
   "cell_type": "code",
   "execution_count": 128,
   "id": "7eff0c27",
   "metadata": {},
   "outputs": [],
   "source": [
    "def classificador(previsao, real):\n",
    "    VP, VN, FN, FP = 0, 0, 0, 0\n",
    "    for i in range(len(real)):\n",
    "        if real[i] == 1 and previsao[i] == 1:\n",
    "            VP+=1\n",
    "        elif real[i] == 0 and previsao[i] == 0:\n",
    "            VN+=1\n",
    "        elif real[i] == 1 and previsao[i] == 0:\n",
    "            FN+=1\n",
    "        else:\n",
    "            FP+=1\n",
    "    return VP, VN, FN, FP"
   ]
  },
  {
   "cell_type": "code",
   "execution_count": 129,
   "id": "ccb67fc2",
   "metadata": {},
   "outputs": [],
   "source": [
    "\n",
    "VP, VN, FN, FP = classificador(arr_previsao, arr_real)"
   ]
  },
  {
   "cell_type": "code",
   "execution_count": 130,
   "id": "49573206",
   "metadata": {},
   "outputs": [
    {
     "name": "stdout",
     "output_type": "stream",
     "text": [
      "24 351 62 84\n"
     ]
    }
   ],
   "source": [
    "print(VP, VN, FN, FP)"
   ]
  },
  {
   "cell_type": "code",
   "execution_count": 131,
   "id": "778e19fe",
   "metadata": {},
   "outputs": [
    {
     "name": "stdout",
     "output_type": "stream",
     "text": [
      "Acuracia: 0.72 \n",
      "Revocação: 0.28 \n",
      "Precisão: 0.22 \n",
      "f1-Score: 0.25\n"
     ]
    }
   ],
   "source": [
    "acuracia = (VP+VN)/(VP+VN+FP+FN)\n",
    "recall = VP / (VP + FN)\n",
    "precisao = VP / (VP + FP)\n",
    "f1_score = 2 * (precisao * recall) / (precisao + recall)\n",
    "\n",
    "print(\"Acuracia: {:.2f} \\nRevocação: {:.2f} \\nPrecisão: {:.2f} \\nf1-Score: {:.2f}\".format(acuracia,recall,precisao,f1_score))"
   ]
  },
  {
   "cell_type": "code",
   "execution_count": 110,
   "id": "025a9491",
   "metadata": {},
   "outputs": [
    {
     "data": {
      "text/plain": [
       "0       0\n",
       "1       1\n",
       "2       1\n",
       "3       1\n",
       "4       1\n",
       "       ..\n",
       "1734    0\n",
       "1735    0\n",
       "1736    0\n",
       "1737    0\n",
       "1738    0\n",
       "Name: level_1, Length: 1738, dtype: int64"
      ]
     },
     "execution_count": 110,
     "metadata": {},
     "output_type": "execute_result"
    }
   ],
   "source": [
    "new_y2 = y.copy()\n",
    "new_y2 = new_y2.apply(lambda x: 1 if x == 0 else 0)\n",
    "new_y2"
   ]
  },
  {
   "cell_type": "code",
   "execution_count": 111,
   "id": "1e9a4ca8",
   "metadata": {},
   "outputs": [],
   "source": [
    "y_test_n2 = new_y2[0:int(len(new_y2)*0.3)]\n",
    "y_trein_n2 = new_y2[int(len(new_y2)*0.3):len(new_y2)]"
   ]
  },
  {
   "cell_type": "code",
   "execution_count": 112,
   "id": "4582bfe5",
   "metadata": {},
   "outputs": [],
   "source": [
    "import tensorflow as tf\n",
    "from keras.models import Sequential\n",
    "from keras.layers import Dense, Flatten, LSTM, Masking, Conv1D, MaxPool1D, GRU\n",
    "from keras.layers import Embedding\n",
    "from keras.metrics import Precision, Recall\n",
    " \n",
    "modeln = Sequential() \n",
    "modeln.add(Embedding(100000, 32, input_length=500)) \n",
    "modeln.add(Masking(mask_value=0.0))\n",
    "modeln.add(LSTM(32, return_sequences=True))\n",
    "modeln.add(LSTM(32, return_sequences=True))\n",
    "modeln.add(LSTM(32, return_sequences=True))\n",
    "modeln.add(LSTM(32, return_sequences=True))\n",
    "modeln.add(LSTM(32, return_sequences=False))\n",
    "modeln.add(Dense(64, activation='relu'))\n",
    "modeln.add(Dense(64, activation='relu'))\n",
    "modeln.add(Dense(1))\n",
    "modeln.compile(optimizer='adam', loss=tf.keras.losses.BinaryCrossentropy(from_logits=True), metrics=['accuracy'])"
   ]
  },
  {
   "cell_type": "code",
   "execution_count": 113,
   "id": "5510c727",
   "metadata": {},
   "outputs": [
    {
     "name": "stdout",
     "output_type": "stream",
     "text": [
      "Epoch 1/12\n",
      "39/39 [==============================] - 34s 176ms/step - loss: 0.4987 - accuracy: 0.8455\n",
      "Epoch 2/12\n",
      "39/39 [==============================] - 7s 166ms/step - loss: 0.4353 - accuracy: 0.8455\n",
      "Epoch 3/12\n",
      "39/39 [==============================] - 7s 188ms/step - loss: 0.4316 - accuracy: 0.8455\n",
      "Epoch 4/12\n",
      "39/39 [==============================] - 7s 170ms/step - loss: 0.4420 - accuracy: 0.8455\n",
      "Epoch 5/12\n",
      "39/39 [==============================] - 7s 182ms/step - loss: 0.4327 - accuracy: 0.8455\n",
      "Epoch 6/12\n",
      "39/39 [==============================] - 7s 185ms/step - loss: 0.4392 - accuracy: 0.8455\n",
      "Epoch 7/12\n",
      "39/39 [==============================] - 8s 196ms/step - loss: 0.4341 - accuracy: 0.8455\n",
      "Epoch 8/12\n",
      "39/39 [==============================] - 8s 204ms/step - loss: 0.4329 - accuracy: 0.8455\n",
      "Epoch 9/12\n",
      "39/39 [==============================] - 9s 223ms/step - loss: 0.4306 - accuracy: 0.8455\n",
      "Epoch 10/12\n",
      "39/39 [==============================] - 8s 207ms/step - loss: 0.4342 - accuracy: 0.8455\n",
      "Epoch 11/12\n",
      "39/39 [==============================] - 7s 187ms/step - loss: 0.4311 - accuracy: 0.8455\n",
      "Epoch 12/12\n",
      "39/39 [==============================] - 9s 222ms/step - loss: 0.4316 - accuracy: 0.8455\n"
     ]
    },
    {
     "data": {
      "text/plain": [
       "<keras.callbacks.History at 0x165181fa3a0>"
      ]
     },
     "execution_count": 113,
     "metadata": {},
     "output_type": "execute_result"
    }
   ],
   "source": [
    "modeln.fit(x_trein, y_trein_n2, epochs=12, verbose=1)"
   ]
  },
  {
   "cell_type": "code",
   "execution_count": 114,
   "id": "81a5612e",
   "metadata": {},
   "outputs": [
    {
     "name": "stdout",
     "output_type": "stream",
     "text": [
      "17/17 [==============================] - 11s 79ms/step - loss: 0.7776 - accuracy: 0.6296\n"
     ]
    },
    {
     "data": {
      "text/plain": [
       "[0.7776023745536804, 0.6295585632324219]"
      ]
     },
     "execution_count": 114,
     "metadata": {},
     "output_type": "execute_result"
    }
   ],
   "source": [
    "modeln.evaluate(np.array(x_test),np.array(y_test_n2))"
   ]
  },
  {
   "cell_type": "code",
   "execution_count": 117,
   "id": "e1262fb9",
   "metadata": {},
   "outputs": [
    {
     "name": "stdout",
     "output_type": "stream",
     "text": [
      "17/17 [==============================] - 16s 67ms/step\n"
     ]
    }
   ],
   "source": [
    "previsao2 = modeln.predict(np.array(x_test))"
   ]
  },
  {
   "cell_type": "code",
   "execution_count": 118,
   "id": "e87a0121",
   "metadata": {},
   "outputs": [],
   "source": [
    "def convert(num):\n",
    "    if num <=0.5:\n",
    "        return 0\n",
    "    else:\n",
    "        return 1\n",
    "\n",
    "arr_previsao = previsao2\n",
    "arr_real = y_test_n\n",
    "converter = np.vectorize(convert)\n",
    "arr_previsao = converter(arr_previsao)"
   ]
  },
  {
   "cell_type": "code",
   "execution_count": 119,
   "id": "2ec1103c",
   "metadata": {},
   "outputs": [
    {
     "name": "stdout",
     "output_type": "stream",
     "text": [
      "0 435 86 0\n"
     ]
    }
   ],
   "source": [
    "VP, VN, FN, FP = classificador(arr_previsao, arr_real)\n",
    "print(VP, VN, FN, FP)"
   ]
  },
  {
   "cell_type": "markdown",
   "id": "e7d3e646",
   "metadata": {},
   "source": [
    "# Previsões da rede\n",
    "\n",
    "## Candidato por opinião positiva"
   ]
  },
  {
   "cell_type": "code",
   "execution_count": 149,
   "id": "7a711b5d",
   "metadata": {},
   "outputs": [
    {
     "name": "stdout",
     "output_type": "stream",
     "text": [
      "55/55 [==============================] - 3s 57ms/step\n"
     ]
    },
    {
     "name": "stderr",
     "output_type": "stream",
     "text": [
      "C:\\Users\\eduar\\AppData\\Local\\Temp\\ipykernel_10768\\1129059046.py:1: SettingWithCopyWarning: \n",
      "A value is trying to be set on a copy of a slice from a DataFrame.\n",
      "Try using .loc[row_indexer,col_indexer] = value instead\n",
      "\n",
      "See the caveats in the documentation: https://pandas.pydata.org/pandas-docs/stable/user_guide/indexing.html#returning-a-view-versus-a-copy\n",
      "  df['sentimentos'] = model.predict(np.array(x))\n"
     ]
    }
   ],
   "source": [
    "df['sentimentos'] = modelp.predict(np.array(x))"
   ]
  },
  {
   "cell_type": "code",
   "execution_count": 150,
   "id": "3653fa29",
   "metadata": {},
   "outputs": [
    {
     "name": "stderr",
     "output_type": "stream",
     "text": [
      "C:\\Users\\eduar\\AppData\\Local\\Temp\\ipykernel_10768\\4284445533.py:1: SettingWithCopyWarning: \n",
      "A value is trying to be set on a copy of a slice from a DataFrame.\n",
      "Try using .loc[row_indexer,col_indexer] = value instead\n",
      "\n",
      "See the caveats in the documentation: https://pandas.pydata.org/pandas-docs/stable/user_guide/indexing.html#returning-a-view-versus-a-copy\n",
      "  df['sentimento'] = df['sentimentos'].apply(lambda x: 'Positivo' if x > 0.5 else 'Negativo ou neutro')\n"
     ]
    }
   ],
   "source": [
    "df['sentimento'] = df['sentimentos'].apply(lambda x: 'Positivo' if x > 0.5 else 'Negativo ou neutro')"
   ]
  },
  {
   "cell_type": "code",
   "execution_count": 152,
   "id": "8779edbe",
   "metadata": {},
   "outputs": [
    {
     "name": "stderr",
     "output_type": "stream",
     "text": [
      "C:\\Users\\eduar\\AppData\\Local\\Temp\\ipykernel_10768\\828491994.py:1: SettingWithCopyWarning: \n",
      "A value is trying to be set on a copy of a slice from a DataFrame.\n",
      "Try using .loc[row_indexer,col_indexer] = value instead\n",
      "\n",
      "See the caveats in the documentation: https://pandas.pydata.org/pandas-docs/stable/user_guide/indexing.html#returning-a-view-versus-a-copy\n",
      "  df['candidato'] = df['candidato'].apply(lambda x: x.replace(\"dados/ultimos_100_tweets\\\\\",''))\n"
     ]
    }
   ],
   "source": [
    "df['candidato'] = df['candidato'].apply(lambda x: x.replace(\"dados/ultimos_100_tweets\\\\\",''))"
   ]
  },
  {
   "cell_type": "code",
   "execution_count": 153,
   "id": "68467a28",
   "metadata": {},
   "outputs": [
    {
     "data": {
      "text/html": [
       "<div>\n",
       "<style scoped>\n",
       "    .dataframe tbody tr th:only-of-type {\n",
       "        vertical-align: middle;\n",
       "    }\n",
       "\n",
       "    .dataframe tbody tr th {\n",
       "        vertical-align: top;\n",
       "    }\n",
       "\n",
       "    .dataframe thead th {\n",
       "        text-align: right;\n",
       "    }\n",
       "</style>\n",
       "<table border=\"1\" class=\"dataframe\">\n",
       "  <thead>\n",
       "    <tr style=\"text-align: right;\">\n",
       "      <th></th>\n",
       "      <th>candidato</th>\n",
       "      <th>level_1</th>\n",
       "      <th>text</th>\n",
       "      <th>id</th>\n",
       "      <th>retweets</th>\n",
       "      <th>replys</th>\n",
       "      <th>likes</th>\n",
       "      <th>author_id</th>\n",
       "      <th>source</th>\n",
       "      <th>lang</th>\n",
       "      <th>created_at</th>\n",
       "      <th>place_id</th>\n",
       "      <th>sentimentos</th>\n",
       "      <th>sentimento</th>\n",
       "    </tr>\n",
       "  </thead>\n",
       "  <tbody>\n",
       "    <tr>\n",
       "      <th>0</th>\n",
       "      <td>bivar</td>\n",
       "      <td>0</td>\n",
       "      <td>@fartosuely1 @_afadamadrinha @thinkmoreBrazil ...</td>\n",
       "      <td>1.537649e+18</td>\n",
       "      <td>1.0</td>\n",
       "      <td>0.0</td>\n",
       "      <td>1.0</td>\n",
       "      <td>1.410976e+18</td>\n",
       "      <td>Twitter for Android</td>\n",
       "      <td>pt</td>\n",
       "      <td>2022-06-17 04:11:17+00:00</td>\n",
       "      <td>NaN</td>\n",
       "      <td>-5.707729</td>\n",
       "      <td>Negativo ou neutro</td>\n",
       "    </tr>\n",
       "    <tr>\n",
       "      <th>1</th>\n",
       "      <td>bivar</td>\n",
       "      <td>1</td>\n",
       "      <td>@ElenTorres10 Quem confia no Bivar?</td>\n",
       "      <td>1.537646e+18</td>\n",
       "      <td>0.0</td>\n",
       "      <td>0.0</td>\n",
       "      <td>0.0</td>\n",
       "      <td>2.387485e+08</td>\n",
       "      <td>Twitter for iPhone</td>\n",
       "      <td>pt</td>\n",
       "      <td>2022-06-17 04:00:30+00:00</td>\n",
       "      <td>NaN</td>\n",
       "      <td>-1.141681</td>\n",
       "      <td>Negativo ou neutro</td>\n",
       "    </tr>\n",
       "    <tr>\n",
       "      <th>2</th>\n",
       "      <td>bivar</td>\n",
       "      <td>2</td>\n",
       "      <td>Moro pode escolher cargo para concorrer, diz o...</td>\n",
       "      <td>1.537646e+18</td>\n",
       "      <td>0.0</td>\n",
       "      <td>0.0</td>\n",
       "      <td>0.0</td>\n",
       "      <td>1.487306e+18</td>\n",
       "      <td>Twitter Web App</td>\n",
       "      <td>pt</td>\n",
       "      <td>2022-06-17 03:58:56+00:00</td>\n",
       "      <td>NaN</td>\n",
       "      <td>3.122572</td>\n",
       "      <td>Positivo</td>\n",
       "    </tr>\n",
       "    <tr>\n",
       "      <th>3</th>\n",
       "      <td>bivar</td>\n",
       "      <td>3</td>\n",
       "      <td>@luzia74992679 Acorda Bivar, é Moro para Presi...</td>\n",
       "      <td>1.537646e+18</td>\n",
       "      <td>0.0</td>\n",
       "      <td>0.0</td>\n",
       "      <td>0.0</td>\n",
       "      <td>1.410976e+18</td>\n",
       "      <td>Twitter for Android</td>\n",
       "      <td>pt</td>\n",
       "      <td>2022-06-17 03:58:30+00:00</td>\n",
       "      <td>NaN</td>\n",
       "      <td>-2.410756</td>\n",
       "      <td>Negativo ou neutro</td>\n",
       "    </tr>\n",
       "    <tr>\n",
       "      <th>4</th>\n",
       "      <td>bivar</td>\n",
       "      <td>4</td>\n",
       "      <td>Bivar pensa que todos são alienados, Moro para...</td>\n",
       "      <td>1.537645e+18</td>\n",
       "      <td>1.0</td>\n",
       "      <td>1.0</td>\n",
       "      <td>2.0</td>\n",
       "      <td>1.487306e+18</td>\n",
       "      <td>Twitter Web App</td>\n",
       "      <td>pt</td>\n",
       "      <td>2022-06-17 03:54:36+00:00</td>\n",
       "      <td>NaN</td>\n",
       "      <td>-3.915273</td>\n",
       "      <td>Negativo ou neutro</td>\n",
       "    </tr>\n",
       "    <tr>\n",
       "      <th>...</th>\n",
       "      <td>...</td>\n",
       "      <td>...</td>\n",
       "      <td>...</td>\n",
       "      <td>...</td>\n",
       "      <td>...</td>\n",
       "      <td>...</td>\n",
       "      <td>...</td>\n",
       "      <td>...</td>\n",
       "      <td>...</td>\n",
       "      <td>...</td>\n",
       "      <td>...</td>\n",
       "      <td>...</td>\n",
       "      <td>...</td>\n",
       "      <td>...</td>\n",
       "    </tr>\n",
       "    <tr>\n",
       "      <th>1831</th>\n",
       "      <td>sofia_manzano</td>\n",
       "      <td>95</td>\n",
       "      <td>@Anitta ANITTA VC PRECISA VER SOBRE A VERA LÚC...</td>\n",
       "      <td>1.546963e+18</td>\n",
       "      <td>0.0</td>\n",
       "      <td>0.0</td>\n",
       "      <td>0.0</td>\n",
       "      <td>1.460646e+18</td>\n",
       "      <td>Twitter for Android</td>\n",
       "      <td>pt</td>\n",
       "      <td>2022-07-12 21:02:57+00:00</td>\n",
       "      <td>NaN</td>\n",
       "      <td>2.907660</td>\n",
       "      <td>Positivo</td>\n",
       "    </tr>\n",
       "    <tr>\n",
       "      <th>1832</th>\n",
       "      <td>sofia_manzano</td>\n",
       "      <td>96</td>\n",
       "      <td>Olá 👋 passando aqui para informar que a partir...</td>\n",
       "      <td>1.546962e+18</td>\n",
       "      <td>0.0</td>\n",
       "      <td>0.0</td>\n",
       "      <td>4.0</td>\n",
       "      <td>4.195617e+08</td>\n",
       "      <td>Twitter Web App</td>\n",
       "      <td>pt</td>\n",
       "      <td>2022-07-12 20:57:43+00:00</td>\n",
       "      <td>NaN</td>\n",
       "      <td>-7.895892</td>\n",
       "      <td>Negativo ou neutro</td>\n",
       "    </tr>\n",
       "    <tr>\n",
       "      <th>1833</th>\n",
       "      <td>sofia_manzano</td>\n",
       "      <td>97</td>\n",
       "      <td>O dinheiro que a mona investiu pra superar a V...</td>\n",
       "      <td>1.546958e+18</td>\n",
       "      <td>0.0</td>\n",
       "      <td>1.0</td>\n",
       "      <td>1.0</td>\n",
       "      <td>1.158390e+18</td>\n",
       "      <td>Twitter for iPhone</td>\n",
       "      <td>pt</td>\n",
       "      <td>2022-07-12 20:40:36+00:00</td>\n",
       "      <td>NaN</td>\n",
       "      <td>-6.716144</td>\n",
       "      <td>Negativo ou neutro</td>\n",
       "    </tr>\n",
       "    <tr>\n",
       "      <th>1834</th>\n",
       "      <td>sofia_manzano</td>\n",
       "      <td>98</td>\n",
       "      <td>Daqui a pouco, as 18h, a rádio web 2 de Julho ...</td>\n",
       "      <td>1.546957e+18</td>\n",
       "      <td>0.0</td>\n",
       "      <td>0.0</td>\n",
       "      <td>0.0</td>\n",
       "      <td>1.506264e+18</td>\n",
       "      <td>Twitter Web App</td>\n",
       "      <td>pt</td>\n",
       "      <td>2022-07-12 20:35:52+00:00</td>\n",
       "      <td>NaN</td>\n",
       "      <td>-7.037282</td>\n",
       "      <td>Negativo ou neutro</td>\n",
       "    </tr>\n",
       "    <tr>\n",
       "      <th>1835</th>\n",
       "      <td>sofia_manzano</td>\n",
       "      <td>99</td>\n",
       "      <td>@simonetebetbr Tebet, polarização era PT x PSD...</td>\n",
       "      <td>1.546939e+18</td>\n",
       "      <td>0.0</td>\n",
       "      <td>2.0</td>\n",
       "      <td>33.0</td>\n",
       "      <td>1.370875e+08</td>\n",
       "      <td>Twitter for Android</td>\n",
       "      <td>pt</td>\n",
       "      <td>2022-07-12 19:28:08+00:00</td>\n",
       "      <td>NaN</td>\n",
       "      <td>-5.007200</td>\n",
       "      <td>Negativo ou neutro</td>\n",
       "    </tr>\n",
       "  </tbody>\n",
       "</table>\n",
       "<p>1738 rows × 14 columns</p>\n",
       "</div>"
      ],
      "text/plain": [
       "          candidato  level_1  \\\n",
       "0             bivar        0   \n",
       "1             bivar        1   \n",
       "2             bivar        2   \n",
       "3             bivar        3   \n",
       "4             bivar        4   \n",
       "...             ...      ...   \n",
       "1831  sofia_manzano       95   \n",
       "1832  sofia_manzano       96   \n",
       "1833  sofia_manzano       97   \n",
       "1834  sofia_manzano       98   \n",
       "1835  sofia_manzano       99   \n",
       "\n",
       "                                                   text            id  \\\n",
       "0     @fartosuely1 @_afadamadrinha @thinkmoreBrazil ...  1.537649e+18   \n",
       "1                   @ElenTorres10 Quem confia no Bivar?  1.537646e+18   \n",
       "2     Moro pode escolher cargo para concorrer, diz o...  1.537646e+18   \n",
       "3     @luzia74992679 Acorda Bivar, é Moro para Presi...  1.537646e+18   \n",
       "4     Bivar pensa que todos são alienados, Moro para...  1.537645e+18   \n",
       "...                                                 ...           ...   \n",
       "1831  @Anitta ANITTA VC PRECISA VER SOBRE A VERA LÚC...  1.546963e+18   \n",
       "1832  Olá 👋 passando aqui para informar que a partir...  1.546962e+18   \n",
       "1833  O dinheiro que a mona investiu pra superar a V...  1.546958e+18   \n",
       "1834  Daqui a pouco, as 18h, a rádio web 2 de Julho ...  1.546957e+18   \n",
       "1835  @simonetebetbr Tebet, polarização era PT x PSD...  1.546939e+18   \n",
       "\n",
       "      retweets  replys  likes     author_id               source lang  \\\n",
       "0          1.0     0.0    1.0  1.410976e+18  Twitter for Android   pt   \n",
       "1          0.0     0.0    0.0  2.387485e+08   Twitter for iPhone   pt   \n",
       "2          0.0     0.0    0.0  1.487306e+18      Twitter Web App   pt   \n",
       "3          0.0     0.0    0.0  1.410976e+18  Twitter for Android   pt   \n",
       "4          1.0     1.0    2.0  1.487306e+18      Twitter Web App   pt   \n",
       "...        ...     ...    ...           ...                  ...  ...   \n",
       "1831       0.0     0.0    0.0  1.460646e+18  Twitter for Android   pt   \n",
       "1832       0.0     0.0    4.0  4.195617e+08      Twitter Web App   pt   \n",
       "1833       0.0     1.0    1.0  1.158390e+18   Twitter for iPhone   pt   \n",
       "1834       0.0     0.0    0.0  1.506264e+18      Twitter Web App   pt   \n",
       "1835       0.0     2.0   33.0  1.370875e+08  Twitter for Android   pt   \n",
       "\n",
       "                     created_at place_id  sentimentos          sentimento  \n",
       "0     2022-06-17 04:11:17+00:00      NaN    -5.707729  Negativo ou neutro  \n",
       "1     2022-06-17 04:00:30+00:00      NaN    -1.141681  Negativo ou neutro  \n",
       "2     2022-06-17 03:58:56+00:00      NaN     3.122572            Positivo  \n",
       "3     2022-06-17 03:58:30+00:00      NaN    -2.410756  Negativo ou neutro  \n",
       "4     2022-06-17 03:54:36+00:00      NaN    -3.915273  Negativo ou neutro  \n",
       "...                         ...      ...          ...                 ...  \n",
       "1831  2022-07-12 21:02:57+00:00      NaN     2.907660            Positivo  \n",
       "1832  2022-07-12 20:57:43+00:00      NaN    -7.895892  Negativo ou neutro  \n",
       "1833  2022-07-12 20:40:36+00:00      NaN    -6.716144  Negativo ou neutro  \n",
       "1834  2022-07-12 20:35:52+00:00      NaN    -7.037282  Negativo ou neutro  \n",
       "1835  2022-07-12 19:28:08+00:00      NaN    -5.007200  Negativo ou neutro  \n",
       "\n",
       "[1738 rows x 14 columns]"
      ]
     },
     "execution_count": 153,
     "metadata": {},
     "output_type": "execute_result"
    }
   ],
   "source": [
    "df"
   ]
  },
  {
   "cell_type": "code",
   "execution_count": 157,
   "id": "561b8e42",
   "metadata": {},
   "outputs": [],
   "source": [
    "df = df.drop(df[df['sentimento'] == 'Negativo ou neutro'].index).groupby(by='candidato').count()"
   ]
  },
  {
   "cell_type": "code",
   "execution_count": 163,
   "id": "cf856c14",
   "metadata": {},
   "outputs": [],
   "source": [
    "df = df.reset_index()"
   ]
  },
  {
   "cell_type": "code",
   "execution_count": 167,
   "id": "56a3fd11",
   "metadata": {},
   "outputs": [],
   "source": [
    "df = df.sort_values(by='sentimento')"
   ]
  },
  {
   "cell_type": "code",
   "execution_count": 171,
   "id": "d30c9483",
   "metadata": {},
   "outputs": [
    {
     "data": {
      "image/png": "[encoded data removed]",
      "text/plain": [
       "<Figure size 1440x360 with 1 Axes>"
      ]
     },
     "metadata": {
      "needs_background": "light"
     },
     "output_type": "display_data"
    }
   ],
   "source": [
    "import matplotlib.pyplot as plt\n",
    "\n",
    "plt.figure(figsize = (20, 5))\n",
    "\n",
    "plt.bar(df['candidato'].replace('_',' '), df['sentimento'], color ='maroon',\n",
    "        width = 0.4)\n",
    "        \n",
    "plt.xlabel(\"Pré-candidatos\")\n",
    "plt.ylabel(\"Quantidade de tweets positivos\")\n",
    "plt.title(\"Candidatos x tweets positivos\")\n",
    "plt.show()"
   ]
  }
 ],
 "metadata": {
  "kernelspec": {
   "display_name": "Python 3 (ipykernel)",
   "language": "python",
   "name": "python3"
  },
  "language_info": {
   "codemirror_mode": {
    "name": "ipython",
    "version": 3
   },
   "file_extension": ".py",
   "mimetype": "text/x-python",
   "name": "python",
   "nbconvert_exporter": "python",
   "pygments_lexer": "ipython3",
   "version": "3.9.10"
  },
  "vscode": {
   "interpreter": {
    "hash": "21a407025843636f3b028dfaad46d04f666c39c3a1b6ea6cad8fbbfbaa2acc05"
   }
  }
 },
 "nbformat": 4,
 "nbformat_minor": 5
}
