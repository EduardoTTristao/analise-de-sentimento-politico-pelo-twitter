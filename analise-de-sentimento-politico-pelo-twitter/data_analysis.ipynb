{
 "cells": [
  {
   "cell_type": "code",
   "execution_count": 95,
   "id": "f888e688",
   "metadata": {},
   "outputs": [],
   "source": [
    "import pandas as pd\n",
    "import numpy as np"
   ]
  },
  {
   "cell_type": "code",
   "execution_count": 144,
   "id": "c9acf876",
   "metadata": {},
   "outputs": [],
   "source": [
    "# Carregando dados\n",
    "import glob\n",
    "\n",
    "def df_all_folder(path):\n",
    "    \n",
    "    all_files = glob.glob(path + \"*_por_tema_tweets.csv*\")\n",
    "    print(all_files)\n",
    "    li = []\n",
    "    \n",
    "    for filename in all_files:\n",
    "        print(filename)\n",
    "        df = pd.read_csv(filename, index_col=0)\n",
    "        li.append(df)\n",
    "    names = []\n",
    "    for filename in all_files:\n",
    "        x = filename.replace(path, \"\")\n",
    "        x = x.replace(\"_por_tema_tweets.csv\", \"\")\n",
    "        names.append(x.replace(\" \",\"_\"))\n",
    "    return pd.concat(li, axis=0, keys =names).reset_index().drop(columns=['level_1']).rename(columns={'level_0': \"candidato\"})"
   ]
  },
  {
   "cell_type": "code",
   "execution_count": 145,
   "id": "6aa9ac36",
   "metadata": {},
   "outputs": [
    {
     "name": "stdout",
     "output_type": "stream",
     "text": [
      "['dados/ultimos_7_dias/sofia manzano_por_tema_tweets.csv', 'dados/ultimos_7_dias/ciro_por_tema_tweets.csv', 'dados/ultimos_7_dias/luiz_por_tema_tweets.csv', 'dados/ultimos_7_dias/vera lucia_por_tema_tweets.csv', 'dados/ultimos_7_dias/leonardo pericles_por_tema_tweets.csv', 'dados/ultimos_7_dias/janones_por_tema_tweets.csv', 'dados/ultimos_7_dias/simone tebet_por_tema_tweets.csv', 'dados/ultimos_7_dias/bolsonaro_por_tema_tweets.csv', 'dados/ultimos_7_dias/pablo macal_por_tema_tweets.csv', 'dados/ultimos_7_dias/eymael_por_tema_tweets.csv', 'dados/ultimos_7_dias/lula_por_tema_tweets.csv', 'dados/ultimos_7_dias/bivar_por_tema_tweets.csv']\n",
      "dados/ultimos_7_dias/sofia manzano_por_tema_tweets.csv\n",
      "dados/ultimos_7_dias/ciro_por_tema_tweets.csv\n",
      "dados/ultimos_7_dias/luiz_por_tema_tweets.csv\n",
      "dados/ultimos_7_dias/vera lucia_por_tema_tweets.csv\n",
      "dados/ultimos_7_dias/leonardo pericles_por_tema_tweets.csv\n",
      "dados/ultimos_7_dias/janones_por_tema_tweets.csv\n",
      "dados/ultimos_7_dias/simone tebet_por_tema_tweets.csv\n",
      "dados/ultimos_7_dias/bolsonaro_por_tema_tweets.csv\n",
      "dados/ultimos_7_dias/pablo macal_por_tema_tweets.csv\n",
      "dados/ultimos_7_dias/eymael_por_tema_tweets.csv\n",
      "dados/ultimos_7_dias/lula_por_tema_tweets.csv\n",
      "dados/ultimos_7_dias/bivar_por_tema_tweets.csv\n"
     ]
    }
   ],
   "source": [
    "path = \"dados/ultimos_7_dias/\"\n",
    "df = df_all_folder(path)"
   ]
  },
  {
   "cell_type": "code",
   "execution_count": 185,
   "id": "0e15e3e3",
   "metadata": {},
   "outputs": [
    {
     "data": {
      "text/html": [
       "<div>\n",
       "<style scoped>\n",
       "    .dataframe tbody tr th:only-of-type {\n",
       "        vertical-align: middle;\n",
       "    }\n",
       "\n",
       "    .dataframe tbody tr th {\n",
       "        vertical-align: top;\n",
       "    }\n",
       "\n",
       "    .dataframe thead th {\n",
       "        text-align: right;\n",
       "    }\n",
       "</style>\n",
       "<table border=\"1\" class=\"dataframe\">\n",
       "  <thead>\n",
       "    <tr style=\"text-align: right;\">\n",
       "      <th></th>\n",
       "      <th>candidato</th>\n",
       "      <th>ditadura</th>\n",
       "      <th>reforma trabalhista</th>\n",
       "      <th>feminismo</th>\n",
       "      <th>reforma agrária</th>\n",
       "      <th>corrupção</th>\n",
       "      <th>segurança</th>\n",
       "    </tr>\n",
       "  </thead>\n",
       "  <tbody>\n",
       "    <tr>\n",
       "      <th>0</th>\n",
       "      <td>sofia_manzano</td>\n",
       "      <td>0</td>\n",
       "      <td>0</td>\n",
       "      <td>0</td>\n",
       "      <td>0</td>\n",
       "      <td>0</td>\n",
       "      <td>0</td>\n",
       "    </tr>\n",
       "    <tr>\n",
       "      <th>1</th>\n",
       "      <td>sofia_manzano</td>\n",
       "      <td>0</td>\n",
       "      <td>1</td>\n",
       "      <td>0</td>\n",
       "      <td>0</td>\n",
       "      <td>0</td>\n",
       "      <td>0</td>\n",
       "    </tr>\n",
       "    <tr>\n",
       "      <th>2</th>\n",
       "      <td>sofia_manzano</td>\n",
       "      <td>0</td>\n",
       "      <td>0</td>\n",
       "      <td>0</td>\n",
       "      <td>1</td>\n",
       "      <td>0</td>\n",
       "      <td>0</td>\n",
       "    </tr>\n",
       "    <tr>\n",
       "      <th>3</th>\n",
       "      <td>sofia_manzano</td>\n",
       "      <td>0</td>\n",
       "      <td>0</td>\n",
       "      <td>0</td>\n",
       "      <td>0</td>\n",
       "      <td>0</td>\n",
       "      <td>0</td>\n",
       "    </tr>\n",
       "    <tr>\n",
       "      <th>4</th>\n",
       "      <td>sofia_manzano</td>\n",
       "      <td>0</td>\n",
       "      <td>0</td>\n",
       "      <td>0</td>\n",
       "      <td>0</td>\n",
       "      <td>0</td>\n",
       "      <td>0</td>\n",
       "    </tr>\n",
       "    <tr>\n",
       "      <th>...</th>\n",
       "      <td>...</td>\n",
       "      <td>...</td>\n",
       "      <td>...</td>\n",
       "      <td>...</td>\n",
       "      <td>...</td>\n",
       "      <td>...</td>\n",
       "      <td>...</td>\n",
       "    </tr>\n",
       "    <tr>\n",
       "      <th>91</th>\n",
       "      <td>bivar</td>\n",
       "      <td>0</td>\n",
       "      <td>0</td>\n",
       "      <td>0</td>\n",
       "      <td>0</td>\n",
       "      <td>5</td>\n",
       "      <td>0</td>\n",
       "    </tr>\n",
       "    <tr>\n",
       "      <th>92</th>\n",
       "      <td>bivar</td>\n",
       "      <td>0</td>\n",
       "      <td>0</td>\n",
       "      <td>0</td>\n",
       "      <td>0</td>\n",
       "      <td>7</td>\n",
       "      <td>0</td>\n",
       "    </tr>\n",
       "    <tr>\n",
       "      <th>93</th>\n",
       "      <td>bivar</td>\n",
       "      <td>0</td>\n",
       "      <td>1</td>\n",
       "      <td>0</td>\n",
       "      <td>0</td>\n",
       "      <td>5</td>\n",
       "      <td>0</td>\n",
       "    </tr>\n",
       "    <tr>\n",
       "      <th>94</th>\n",
       "      <td>bivar</td>\n",
       "      <td>0</td>\n",
       "      <td>0</td>\n",
       "      <td>0</td>\n",
       "      <td>0</td>\n",
       "      <td>3</td>\n",
       "      <td>0</td>\n",
       "    </tr>\n",
       "    <tr>\n",
       "      <th>95</th>\n",
       "      <td>bivar</td>\n",
       "      <td>1</td>\n",
       "      <td>0</td>\n",
       "      <td>0</td>\n",
       "      <td>0</td>\n",
       "      <td>1</td>\n",
       "      <td>0</td>\n",
       "    </tr>\n",
       "  </tbody>\n",
       "</table>\n",
       "<p>96 rows × 7 columns</p>\n",
       "</div>"
      ],
      "text/plain": [
       "        candidato  ditadura  reforma trabalhista  feminismo  reforma agrária  \\\n",
       "0   sofia_manzano         0                    0          0                0   \n",
       "1   sofia_manzano         0                    1          0                0   \n",
       "2   sofia_manzano         0                    0          0                1   \n",
       "3   sofia_manzano         0                    0          0                0   \n",
       "4   sofia_manzano         0                    0          0                0   \n",
       "..            ...       ...                  ...        ...              ...   \n",
       "91          bivar         0                    0          0                0   \n",
       "92          bivar         0                    0          0                0   \n",
       "93          bivar         0                    1          0                0   \n",
       "94          bivar         0                    0          0                0   \n",
       "95          bivar         1                    0          0                0   \n",
       "\n",
       "    corrupção  segurança  \n",
       "0           0          0  \n",
       "1           0          0  \n",
       "2           0          0  \n",
       "3           0          0  \n",
       "4           0          0  \n",
       "..        ...        ...  \n",
       "91          5          0  \n",
       "92          7          0  \n",
       "93          5          0  \n",
       "94          3          0  \n",
       "95          1          0  \n",
       "\n",
       "[96 rows x 7 columns]"
      ]
     },
     "execution_count": 185,
     "metadata": {},
     "output_type": "execute_result"
    }
   ],
   "source": [
    "df"
   ]
  },
  {
   "cell_type": "code",
   "execution_count": 178,
   "id": "41f63d55",
   "metadata": {
    "scrolled": true
   },
   "outputs": [],
   "source": [
    "import matplotlib.pyplot as plt\n",
    "\n",
    "def create_barplot(df, column, theme):\n",
    "    return df.groupby(column)[theme].sum().plot(kind='bar')\n"
   ]
  },
  {
   "cell_type": "code",
   "execution_count": 201,
   "id": "61323fb5",
   "metadata": {},
   "outputs": [],
   "source": [
    "import matplotlib.pyplot as plt\n",
    "\n",
    "def generate_barplots_by_topic(df, topic):\n",
    "    topics = df.columns\n",
    "    path = 'images/candidatos_por_topico_bar/'\n",
    "    for x in topics:\n",
    "        if x != topic:\n",
    "            barplot = create_barplot(df, topic, x)\n",
    "            barplot.figure.savefig(path + x.replace(\" \", \"_\") + \".png\")"
   ]
  },
  {
   "cell_type": "code",
   "execution_count": 202,
   "id": "5fff6357",
   "metadata": {},
   "outputs": [
    {
     "data": {
      "image/png": "[encoded data removed]",
      "text/plain": [
       "<Figure size 432x288 with 1 Axes>"
      ]
     },
     "metadata": {
      "needs_background": "light"
     },
     "output_type": "display_data"
    }
   ],
   "source": [
    "generate_barplots_by_topic(df, \"candidato\")"
   ]
  },
  {
   "cell_type": "code",
   "execution_count": 184,
   "id": "cfbad07b",
   "metadata": {},
   "outputs": [
    {
     "data": {
      "text/plain": [
       "Index(['candidato', 'ditadura', 'reforma trabalhista', 'feminismo',\n",
       "       'reforma agrária', 'corrupção', 'segurança'],\n",
       "      dtype='object')"
      ]
     },
     "execution_count": 184,
     "metadata": {},
     "output_type": "execute_result"
    }
   ],
   "source": [
    "df.columns"
   ]
  },
  {
   "cell_type": "code",
   "execution_count": 164,
   "id": "50896b71",
   "metadata": {},
   "outputs": [
    {
     "name": "stdout",
     "output_type": "stream",
     "text": [
      "candidato\n",
      "bivar                 0\n",
      "bolsonaro            70\n",
      "ciro                  6\n",
      "eymael                0\n",
      "janones               0\n",
      "leonardo_pericles     0\n",
      "luiz                  0\n",
      "lula                 37\n",
      "pablo_macal           0\n",
      "simone_tebet          0\n",
      "sofia_manzano         1\n",
      "vera_lucia            0\n",
      "Name: reforma agrária, dtype: int64\n"
     ]
    },
    {
     "data": {
      "text/plain": [
       "<AxesSubplot:xlabel='candidato'>"
      ]
     },
     "execution_count": 164,
     "metadata": {},
     "output_type": "execute_result"
    },
    {
     "data": {
      "image/png": "[encoded data removed]",
      "text/plain": [
       "<Figure size 432x288 with 1 Axes>"
      ]
     },
     "metadata": {
      "needs_background": "light"
     },
     "output_type": "display_data"
    }
   ],
   "source": [
    "import matplotlib.pyplot as plt\n",
    "\n",
    "reforma_agraria = df.groupby(\"candidato\")['reforma agrária'].sum()\n",
    "print(reforma_agraria)\n",
    "feminismo.plot(kind='bar')"
   ]
  },
  {
   "cell_type": "code",
   "execution_count": 170,
   "id": "6adc5cde",
   "metadata": {},
   "outputs": [],
   "source": [
    "!mkdir images"
   ]
  },
  {
   "cell_type": "code",
   "execution_count": null,
   "id": "a7e2a05f",
   "metadata": {},
   "outputs": [],
   "source": []
  }
 ],
 "metadata": {
  "kernelspec": {
   "display_name": "Python 3 (ipykernel)",
   "language": "python",
   "name": "python3"
  },
  "language_info": {
   "codemirror_mode": {
    "name": "ipython",
    "version": 3
   },
   "file_extension": ".py",
   "mimetype": "text/x-python",
   "name": "python",
   "nbconvert_exporter": "python",
   "pygments_lexer": "ipython3",
   "version": "3.10.4"
  }
 },
 "nbformat": 4,
 "nbformat_minor": 5
}
