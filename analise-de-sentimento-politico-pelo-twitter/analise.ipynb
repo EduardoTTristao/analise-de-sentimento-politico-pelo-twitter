{
 "cells": [
  {
   "cell_type": "code",
   "execution_count": 114,
   "metadata": {},
   "outputs": [],
   "source": [
    "API_KEY = 'y5Pt4OyhvXKRMNgmQUudrQTVp'\n",
    "ACESS_TOKEN = '1536862091537178624-BRUEJHXCKJkb9EQP4eMunnmAyP6TDT'\n",
    "API_KEY_SECRET = 'H2bRlfYoQ9appGSqiQvSONvyitEuttt87fPtYlYhlmYtsRzR5A'\n",
    "ACESS_TOKEN_SECRET = 'Q6vzz1YsRxOhJ1mDHOXVSt1Id687GuwL1l1yhkRm92SQi'\n",
    "BEARER_TOKEN = 'AAAAAAAAAAAAAAAAAAAAAI4ZdwEAAAAAr2Z9ihJUyjN2Z5aAsiVFH0zt%2FIM%3DtUFLGD7Fo30mYT5hj2IJwVex27bCSKz2ZAgQDssNKs6HssNBD6'"
   ]
  },
  {
   "cell_type": "code",
   "execution_count": 2,
   "metadata": {},
   "outputs": [
    {
     "name": "stdout",
     "output_type": "stream",
     "text": [
      "Requirement already satisfied: pandas in c:\\users\\eduar\\appdata\\local\\programs\\python\\python310\\lib\\site-packages (1.4.2)\n",
      "Requirement already satisfied: pytz>=2020.1 in c:\\users\\eduar\\appdata\\local\\programs\\python\\python310\\lib\\site-packages (from pandas) (2022.1)\n",
      "Requirement already satisfied: python-dateutil>=2.8.1 in c:\\users\\eduar\\appdata\\local\\programs\\python\\python310\\lib\\site-packages (from pandas) (2.8.2)\n",
      "Requirement already satisfied: numpy>=1.21.0 in c:\\users\\eduar\\appdata\\local\\programs\\python\\python310\\lib\\site-packages (from pandas) (1.22.4)\n",
      "Requirement already satisfied: six>=1.5 in c:\\users\\eduar\\appdata\\local\\programs\\python\\python310\\lib\\site-packages (from python-dateutil>=2.8.1->pandas) (1.16.0)\n"
     ]
    },
    {
     "name": "stderr",
     "output_type": "stream",
     "text": [
      "WARNING: You are using pip version 21.3.1; however, version 22.1.2 is available.\n",
      "You should consider upgrading via the 'c:\\Users\\eduar\\AppData\\Local\\Programs\\Python\\Python310\\python.exe -m pip install --upgrade pip' command.\n"
     ]
    }
   ],
   "source": [
    "import sys\n",
    "!{sys.executable} -m pip install pandas"
   ]
  },
  {
   "cell_type": "code",
   "execution_count": 3,
   "metadata": {},
   "outputs": [
    {
     "name": "stdout",
     "output_type": "stream",
     "text": [
      "Requirement already satisfied: tweepy in c:\\users\\eduar\\appdata\\local\\programs\\python\\python310\\lib\\site-packages (4.10.0)"
     ]
    },
    {
     "name": "stderr",
     "output_type": "stream",
     "text": [
      "WARNING: You are using pip version 21.3.1; however, version 22.1.2 is available.\n",
      "You should consider upgrading via the 'c:\\Users\\eduar\\AppData\\Local\\Programs\\Python\\Python310\\python.exe -m pip install --upgrade pip' command.\n"
     ]
    },
    {
     "name": "stdout",
     "output_type": "stream",
     "text": [
      "\n",
      "Requirement already satisfied: requests-oauthlib<2,>=1.2.0 in c:\\users\\eduar\\appdata\\local\\programs\\python\\python310\\lib\\site-packages (from tweepy) (1.3.1)\n",
      "Requirement already satisfied: oauthlib<4,>=3.2.0 in c:\\users\\eduar\\appdata\\local\\programs\\python\\python310\\lib\\site-packages (from tweepy) (3.2.0)\n",
      "Requirement already satisfied: requests<3,>=2.27.0 in c:\\users\\eduar\\appdata\\local\\programs\\python\\python310\\lib\\site-packages (from tweepy) (2.28.0)\n",
      "Requirement already satisfied: charset-normalizer~=2.0.0 in c:\\users\\eduar\\appdata\\local\\programs\\python\\python310\\lib\\site-packages (from requests<3,>=2.27.0->tweepy) (2.0.12)\n",
      "Requirement already satisfied: certifi>=2017.4.17 in c:\\users\\eduar\\appdata\\local\\programs\\python\\python310\\lib\\site-packages (from requests<3,>=2.27.0->tweepy) (2022.5.18.1)\n",
      "Requirement already satisfied: urllib3<1.27,>=1.21.1 in c:\\users\\eduar\\appdata\\local\\programs\\python\\python310\\lib\\site-packages (from requests<3,>=2.27.0->tweepy) (1.26.9)\n",
      "Requirement already satisfied: idna<4,>=2.5 in c:\\users\\eduar\\appdata\\local\\programs\\python\\python310\\lib\\site-packages (from requests<3,>=2.27.0->tweepy) (3.3)\n"
     ]
    }
   ],
   "source": [
    "import sys\n",
    "!{sys.executable} -m pip install tweepy"
   ]
  },
  {
   "cell_type": "code",
   "execution_count": 252,
   "metadata": {},
   "outputs": [],
   "source": [
    "import tweepy\n",
    "import pandas as pd"
   ]
  },
  {
   "cell_type": "code",
   "execution_count": 253,
   "metadata": {},
   "outputs": [],
   "source": [
    "def query(politico):\n",
    "    client = tweepy.Client(bearer_token=BEARER_TOKEN)\n",
    "    data = client.search_recent_tweets(query=politico +' -is:retweet',max_results=100,tweet_fields=['created_at','lang','public_metrics','source','geo'],place_fields=['country','geo','name','country_code'],expansions=['geo.place_id','author_id'])\n",
    "    return data"
   ]
  },
  {
   "cell_type": "code",
   "execution_count": 254,
   "metadata": {},
   "outputs": [],
   "source": [
    "def preenche_listas(data,text,id,retweets,replys,likes,author_id,source,lang,created_at,place_id,geo_full_name,geo_x1,geo_x2,geo_y1,geo_y2,geo_id):\n",
    "    for e in data:\n",
    "        if isinstance(e,dict):\n",
    "            for i in e.keys():\n",
    "                if i == 'places':\n",
    "                    for l in e[i]:\n",
    "                        geo_full_name.append(l.full_name)\n",
    "                        geo_x1.append(l.data['geo']['bbox'][1])\n",
    "                        geo_x2.append(l.data['geo']['bbox'][0])\n",
    "                        geo_y1.append(l.data['geo']['bbox'][3])\n",
    "                        geo_y2.append(l.data['geo']['bbox'][2])\n",
    "                        geo_id.append(l.id)\n",
    "        if isinstance(e,list):\n",
    "            for i in e:\n",
    "                place_id.append(i.geo)\n",
    "                created_at.append(i.created_at)\n",
    "                lang.append(i.lang)\n",
    "                source.append(i.source)\n",
    "                author_id.append(i.author_id)\n",
    "                retweets.append(i.public_metrics['retweet_count'])\n",
    "                likes.append(i.public_metrics['like_count'])\n",
    "                replys.append(i.public_metrics['reply_count'])\n",
    "                id.append(i.id)\n",
    "                text.append(i.text)"
   ]
  },
  {
   "cell_type": "code",
   "execution_count": 255,
   "metadata": {},
   "outputs": [],
   "source": [
    "def salvar(politico, df_tweet, df_tweet_geo):\n",
    "    import os  \n",
    "    os.makedirs('dados/ultimos 100 tweets', exist_ok=True)  \n",
    "    df_tweet.to_csv('dados/ultimos 100 tweets/'+politico+'_tweets.csv') \n",
    "    df_tweet_geo.to_csv('dad0s/ultimos 100 tweets/'+politico+'_tweets_locais.csv') "
   ]
  },
  {
   "cell_type": "code",
   "execution_count": 256,
   "metadata": {},
   "outputs": [],
   "source": [
    "def criar_csv(politico):\n",
    "    data = query(politico)\n",
    "    text = []\n",
    "    id = []\n",
    "    retweets = []\n",
    "    replys = []\n",
    "    likes = []\n",
    "    author_id = []\n",
    "    source = []\n",
    "    lang = []\n",
    "    created_at = []\n",
    "    place_id = []\n",
    "    geo_full_name = []\n",
    "    geo_x1 = []\n",
    "    geo_x2 = []\n",
    "    geo_y1 = []\n",
    "    geo_y2 = []\n",
    "    geo_id = []\n",
    "    preenche_listas(data,text,id,retweets,replys,likes,author_id,source,lang,created_at,place_id,geo_full_name,geo_x1,geo_x2,geo_y1,geo_y2,geo_id)\n",
    "    df_tweet = pd.DataFrame(data={'text' : text, 'id' : id, 'retweets' : retweets, 'replys' : replys,'likes' : likes, 'author_id' : author_id, 'source' : source, 'lang' : lang, 'created_at': created_at,'place_id' : place_id})\n",
    "    df_tweet_geo = pd.DataFrame(data={'geo_full_name' : geo_full_name,'geo_id' : geo_id, 'geo_x1' : geo_x1, 'geo_x2' : geo_x2, 'geo_y1' : geo_y1, 'geo_y2' : geo_y2})\n",
    "    salvar(politico, df_tweet,df_tweet_geo)"
   ]
  },
  {
   "cell_type": "code",
   "execution_count": 257,
   "metadata": {},
   "outputs": [],
   "source": [
    "criar_csv('bolsonaro')\n",
    "criar_csv('lula')\n",
    "criar_csv('ciro')\n",
    "criar_csv('simone tebet')\n",
    "criar_csv('bivar')\n",
    "criar_csv('Luiz Felipe d’Avila')\n",
    "criar_csv('janones')\n",
    "criar_csv('leonardo pericles')\n",
    "criar_csv('pablo maçal')\n",
    "criar_csv('vera lucia')\n",
    "criar_csv('sofia manzano')\n",
    "criar_csv('eymael')"
   ]
  }
 ],
 "metadata": {
  "interpreter": {
   "hash": "52cf93b3245c947d64d0217858e618f9641697b5c808500ce60698e2564fce2d"
  },
  "kernelspec": {
   "display_name": "Python 3.10.0 64-bit",
   "language": "python",
   "name": "python3"
  },
  "language_info": {
   "codemirror_mode": {
    "name": "ipython",
    "version": 3
   },
   "file_extension": ".py",
   "mimetype": "text/x-python",
   "name": "python",
   "nbconvert_exporter": "python",
   "pygments_lexer": "ipython3",
   "version": "3.10.0"
  },
  "orig_nbformat": 4
 },
 "nbformat": 4,
 "nbformat_minor": 2
}
