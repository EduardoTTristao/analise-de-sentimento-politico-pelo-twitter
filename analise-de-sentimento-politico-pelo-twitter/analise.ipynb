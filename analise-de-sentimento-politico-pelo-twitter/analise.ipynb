{
 "cells": [
  {
   "cell_type": "code",
   "execution_count": 6,
   "metadata": {},
   "outputs": [],
   "source": [
    "API_KEY = 'y5Pt4OyhvXKRMNgmQUudrQTVp'\n",
    "ACESS_TOKEN = '1536862091537178624-BRUEJHXCKJkb9EQP4eMunnmAyP6TDT'\n",
    "API_KEY_SECRET = 'H2bRlfYoQ9appGSqiQvSONvyitEuttt87fPtYlYhlmYtsRzR5A'\n",
    "ACESS_TOKEN_SECRET = 'Q6vzz1YsRxOhJ1mDHOXVSt1Id687GuwL1l1yhkRm92SQi'\n",
    "BEARER_TOKEN = 'AAAAAAAAAAAAAAAAAAAAAI4ZdwEAAAAAr2Z9ihJUyjN2Z5aAsiVFH0zt%2FIM%3DtUFLGD7Fo30mYT5hj2IJwVex27bCSKz2ZAgQDssNKs6HssNBD6'"
   ]
  },
  {
   "cell_type": "code",
   "execution_count": 5,
   "metadata": {},
   "outputs": [
    {
     "name": "stdout",
     "output_type": "stream",
     "text": [
      "Requirement already satisfied: pandas in c:\\users\\eduar\\appdata\\local\\programs\\python\\python310\\lib\\site-packages (1.4.2)\n",
      "Requirement already satisfied: numpy>=1.21.0 in c:\\users\\eduar\\appdata\\local\\programs\\python\\python310\\lib\\site-packages (from pandas) (1.22.4)\n",
      "Requirement already satisfied: pytz>=2020.1 in c:\\users\\eduar\\appdata\\local\\programs\\python\\python310\\lib\\site-packages (from pandas) (2022.1)\n",
      "Requirement already satisfied: python-dateutil>=2.8.1 in c:\\users\\eduar\\appdata\\local\\programs\\python\\python310\\lib\\site-packages (from pandas) (2.8.2)\n",
      "Requirement already satisfied: six>=1.5 in c:\\users\\eduar\\appdata\\local\\programs\\python\\python310\\lib\\site-packages (from python-dateutil>=2.8.1->pandas) (1.16.0)\n"
     ]
    },
    {
     "name": "stderr",
     "output_type": "stream",
     "text": [
      "WARNING: You are using pip version 21.3.1; however, version 22.1.2 is available.\n",
      "You should consider upgrading via the 'c:\\Users\\eduar\\AppData\\Local\\Programs\\Python\\Python310\\python.exe -m pip install --upgrade pip' command.\n"
     ]
    }
   ],
   "source": [
    "import sys\n",
    "!{sys.executable} -m pip install pandas"
   ]
  },
  {
   "cell_type": "code",
   "execution_count": 4,
   "metadata": {},
   "outputs": [
    {
     "name": "stdout",
     "output_type": "stream",
     "text": [
      "Requirement already satisfied: tweepy in c:\\users\\eduar\\appdata\\local\\programs\\python\\python310\\lib\\site-packages (4.10.0)\n",
      "Requirement already satisfied: requests-oauthlib<2,>=1.2.0 in c:\\users\\eduar\\appdata\\local\\programs\\python\\python310\\lib\\site-packages (from tweepy) (1.3.1)\n",
      "Requirement already satisfied: requests<3,>=2.27.0 in c:\\users\\eduar\\appdata\\local\\programs\\python\\python310\\lib\\site-packages (from tweepy) (2.28.0)\n",
      "Requirement already satisfied: oauthlib<4,>=3.2.0 in c:\\users\\eduar\\appdata\\local\\programs\\python\\python310\\lib\\site-packages (from tweepy) (3.2.0)\n",
      "Requirement already satisfied: charset-normalizer~=2.0.0 in c:\\users\\eduar\\appdata\\local\\programs\\python\\python310\\lib\\site-packages (from requests<3,>=2.27.0->tweepy) (2.0.12)\n",
      "Requirement already satisfied: certifi>=2017.4.17 in c:\\users\\eduar\\appdata\\local\\programs\\python\\python310\\lib\\site-packages (from requests<3,>=2.27.0->tweepy) (2022.5.18.1)\n",
      "Requirement already satisfied: urllib3<1.27,>=1.21.1 in c:\\users\\eduar\\appdata\\local\\programs\\python\\python310\\lib\\site-packages (from requests<3,>=2.27.0->tweepy) (1.26.9)\n",
      "Requirement already satisfied: idna<4,>=2.5 in c:\\users\\eduar\\appdata\\local\\programs\\python\\python310\\lib\\site-packages (from requests<3,>=2.27.0->tweepy) (3.3)\n"
     ]
    },
    {
     "name": "stderr",
     "output_type": "stream",
     "text": [
      "WARNING: You are using pip version 21.3.1; however, version 22.1.2 is available.\n",
      "You should consider upgrading via the 'c:\\Users\\eduar\\AppData\\Local\\Programs\\Python\\Python310\\python.exe -m pip install --upgrade pip' command.\n"
     ]
    }
   ],
   "source": [
    "import sys\n",
    "!{sys.executable} -m pip install tweepy"
   ]
  },
  {
   "cell_type": "code",
   "execution_count": 28,
   "metadata": {},
   "outputs": [],
   "source": [
    "import tweepy\n",
    "import pandas as pd\n",
    "import os  \n",
    "\n",
    "client = tweepy.Client(bearer_token=BEARER_TOKEN)"
   ]
  },
  {
   "cell_type": "code",
   "execution_count": 29,
   "metadata": {},
   "outputs": [],
   "source": [
    "def pesquisa_politico(politico):\n",
    "    data = client.search_recent_tweets(query=politico +' -is:retweet',max_results=100,tweet_fields=['created_at','lang','public_metrics','source','geo'],place_fields=['country','geo','name','country_code'],expansions=['geo.place_id','author_id'])\n",
    "    return data"
   ]
  },
  {
   "cell_type": "code",
   "execution_count": 14,
   "metadata": {},
   "outputs": [],
   "source": [
    "def preenche_listas(data,text,id,retweets,replys,likes,author_id,source,lang,created_at,place_id,geo_full_name,geo_x1,geo_x2,geo_y1,geo_y2,geo_id):\n",
    "    for e in data:\n",
    "        if isinstance(e,dict):\n",
    "            for i in e.keys():\n",
    "                if i == 'places':\n",
    "                    for l in e[i]:\n",
    "                        geo_full_name.append(l.full_name)\n",
    "                        geo_x1.append(l.data['geo']['bbox'][1])\n",
    "                        geo_x2.append(l.data['geo']['bbox'][0])\n",
    "                        geo_y1.append(l.data['geo']['bbox'][3])\n",
    "                        geo_y2.append(l.data['geo']['bbox'][2])\n",
    "                        geo_id.append(l.id)\n",
    "        if isinstance(e,list):\n",
    "            for i in e:\n",
    "                place_id.append(i.geo)\n",
    "                created_at.append(i.created_at)\n",
    "                lang.append(i.lang)\n",
    "                source.append(i.source)\n",
    "                author_id.append(i.author_id)\n",
    "                retweets.append(i.public_metrics['retweet_count'])\n",
    "                likes.append(i.public_metrics['like_count'])\n",
    "                replys.append(i.public_metrics['reply_count'])\n",
    "                id.append(i.id)\n",
    "                text.append(i.text)"
   ]
  },
  {
   "cell_type": "code",
   "execution_count": 19,
   "metadata": {},
   "outputs": [],
   "source": [
    "def salvar_100(politico, df_tweet, df_tweet_geo):\n",
    "    os.makedirs('dados/ultimos 100 tweets', exist_ok=True)  \n",
    "    df_tweet.to_csv('dados/ultimos 100 tweets/'+politico+'_tweets.csv') \n",
    "    df_tweet_geo.to_csv('dados/ultimos 100 tweets/'+politico+'_tweets_locais.csv') "
   ]
  },
  {
   "cell_type": "code",
   "execution_count": 16,
   "metadata": {},
   "outputs": [],
   "source": [
    "def criar_csv_100tweets(politico):\n",
    "    data = pesquisa_politico(politico)\n",
    "    text = []\n",
    "    id = []\n",
    "    retweets = []\n",
    "    replys = []\n",
    "    likes = []\n",
    "    author_id = []\n",
    "    source = []\n",
    "    lang = []\n",
    "    created_at = []\n",
    "    place_id = []\n",
    "    geo_full_name = []\n",
    "    geo_x1 = []\n",
    "    geo_x2 = []\n",
    "    geo_y1 = []\n",
    "    geo_y2 = []\n",
    "    geo_id = []\n",
    "    preenche_listas(data,text,id,retweets,replys,likes,author_id,source,lang,created_at,place_id,geo_full_name,geo_x1,geo_x2,geo_y1,geo_y2,geo_id)\n",
    "    df_tweet = pd.DataFrame(data={'text' : text, 'id' : id, 'retweets' : retweets, 'replys' : replys,'likes' : likes, 'author_id' : author_id, 'source' : source, 'lang' : lang, 'created_at': created_at,'place_id' : place_id})\n",
    "    df_tweet_geo = pd.DataFrame(data={'geo_full_name' : geo_full_name,'geo_id' : geo_id, 'geo_x1' : geo_x1, 'geo_x2' : geo_x2, 'geo_y1' : geo_y1, 'geo_y2' : geo_y2})\n",
    "    salvar_100(politico, df_tweet,df_tweet_geo)"
   ]
  },
  {
   "cell_type": "code",
   "execution_count": 21,
   "metadata": {},
   "outputs": [],
   "source": [
    "pre_candidatos = ['bolsonaro', \n",
    "                    'lula', \n",
    "                    'ciro', \n",
    "                    'simone tebet', \n",
    "                    'bivar', \n",
    "                    'Luiz Felipe d’Avila', \n",
    "                    'janones', \n",
    "                    'leonardo pericles', \n",
    "                    'pablo maçal', \n",
    "                    'vera lucia', \n",
    "                    'sofia manzano', \n",
    "                    'eymael']"
   ]
  },
  {
   "cell_type": "code",
   "execution_count": 20,
   "metadata": {},
   "outputs": [],
   "source": [
    "for c in pre_candidatos:\n",
    "    criar_csv_100tweets(c)"
   ]
  },
  {
   "cell_type": "code",
   "execution_count": 35,
   "metadata": {},
   "outputs": [],
   "source": [
    "def pesquisa_p_t_count(politico,tema):\n",
    "    counts = client.get_recent_tweets_count(query=politico+' '+tema+' -is:retweet',granularity='day')\n",
    "    return counts.data"
   ]
  },
  {
   "cell_type": "code",
   "execution_count": 24,
   "metadata": {},
   "outputs": [],
   "source": [
    "def salvar_7(politico, df_tweet, tipo):\n",
    "    os.makedirs('dados/ultimos 7 dias', exist_ok=True)  \n",
    "    df_tweet.to_csv('dados/ultimos 7 dias/'+tipo+politico+'_por_tema_tweets.csv') "
   ]
  },
  {
   "cell_type": "code",
   "execution_count": 33,
   "metadata": {},
   "outputs": [],
   "source": [
    "def criar_csv_7dias(politico, temas, tipo = ''):\n",
    "    valor_tema_dia = []\n",
    "    for i in range(len(temas)):\n",
    "        valor_tema_dia.append([])\n",
    "        pesquisa = pesquisa_p_t_count(politico,temas[i])\n",
    "        if i == 0:\n",
    "            dias = []\n",
    "        for j in range(len(pesquisa)):\n",
    "            valor_tema_dia[i].append(pesquisa[j]['tweet_count'])\n",
    "            if i == 0:\n",
    "                dias.append(pesquisa[j]['start'])\n",
    "    datas = dict(zip(temas, valor_tema_dia))\n",
    "    df_tweet = pd.DataFrame(data=datas,index=dias)\n",
    "    print(df_tweet)\n",
    "    salvar_7(politico, df_tweet, tipo)"
   ]
  },
  {
   "cell_type": "code",
   "execution_count": 26,
   "metadata": {},
   "outputs": [],
   "source": [
    "temas = ['ditadura',\n",
    "        'reforma trabalhista',\n",
    "        'feminismo',\n",
    "        'reforma agrária',\n",
    "        'corrupção',\n",
    "        'segurança']"
   ]
  },
  {
   "cell_type": "code",
   "execution_count": 36,
   "metadata": {},
   "outputs": [
    {
     "name": "stdout",
     "output_type": "stream",
     "text": [
      "                          ditadura  reforma trabalhista  feminismo  \\\n",
      "2022-06-10T18:24:16.000Z        37                   12          1   \n",
      "2022-06-11T00:00:00.000Z       152                   12          5   \n",
      "2022-06-12T00:00:00.000Z       116                   13          3   \n",
      "2022-06-13T00:00:00.000Z       175                    4          6   \n",
      "2022-06-14T00:00:00.000Z       132                   19          3   \n",
      "2022-06-15T00:00:00.000Z       168                   19          2   \n",
      "2022-06-16T00:00:00.000Z       126                    6          7   \n",
      "2022-06-17T00:00:00.000Z        84                    4          6   \n",
      "\n",
      "                          reforma agrária  corrupção  segurança  \n",
      "2022-06-10T18:24:16.000Z                2        118         82  \n",
      "2022-06-11T00:00:00.000Z                5        374        134  \n",
      "2022-06-12T00:00:00.000Z               12        460        195  \n",
      "2022-06-13T00:00:00.000Z                9        571        237  \n",
      "2022-06-14T00:00:00.000Z               17        404        160  \n",
      "2022-06-15T00:00:00.000Z               10        391        140  \n",
      "2022-06-16T00:00:00.000Z                9        512        188  \n",
      "2022-06-17T00:00:00.000Z                6        306         85  \n",
      "                          ditadura  reforma trabalhista  feminismo  \\\n",
      "2022-06-10T18:24:18.000Z        21                   86          1   \n",
      "2022-06-11T00:00:00.000Z        81                  145          0   \n",
      "2022-06-12T00:00:00.000Z        92                   54          2   \n",
      "2022-06-13T00:00:00.000Z        98                   54          5   \n",
      "2022-06-14T00:00:00.000Z       149                   59          2   \n",
      "2022-06-15T00:00:00.000Z       101                  103          0   \n",
      "2022-06-16T00:00:00.000Z        84                   20          2   \n",
      "2022-06-17T00:00:00.000Z        47                   20          2   \n",
      "\n",
      "                          reforma agrária  corrupção  segurança  \n",
      "2022-06-10T18:24:18.000Z                1        182         17  \n",
      "2022-06-11T00:00:00.000Z                3        596         56  \n",
      "2022-06-12T00:00:00.000Z                3        716         75  \n",
      "2022-06-13T00:00:00.000Z                7        539         81  \n",
      "2022-06-14T00:00:00.000Z                4        656         84  \n",
      "2022-06-15T00:00:00.000Z                6        595         85  \n",
      "2022-06-16T00:00:00.000Z               13        578        131  \n",
      "2022-06-17T00:00:00.000Z                1        511         42  \n",
      "                          ditadura  reforma trabalhista  feminismo  \\\n",
      "2022-06-10T18:24:20.000Z         1                    4          0   \n",
      "2022-06-11T00:00:00.000Z         7                   16          0   \n",
      "2022-06-12T00:00:00.000Z        21                    6          0   \n",
      "2022-06-13T00:00:00.000Z        12                    4          0   \n",
      "2022-06-14T00:00:00.000Z         5                    9          0   \n",
      "2022-06-15T00:00:00.000Z        12                   21          0   \n",
      "2022-06-16T00:00:00.000Z         6                    4          0   \n",
      "2022-06-17T00:00:00.000Z         9                    3          1   \n",
      "\n",
      "                          reforma agrária  corrupção  segurança  \n",
      "2022-06-10T18:24:20.000Z                1         98         22  \n",
      "2022-06-11T00:00:00.000Z                2         56          9  \n",
      "2022-06-12T00:00:00.000Z                0         51          8  \n",
      "2022-06-13T00:00:00.000Z                0         72         47  \n",
      "2022-06-14T00:00:00.000Z                1         55         19  \n",
      "2022-06-15T00:00:00.000Z                1         66         35  \n",
      "2022-06-16T00:00:00.000Z                1         87         15  \n",
      "2022-06-17T00:00:00.000Z                0         53          2  \n",
      "                          ditadura  reforma trabalhista  feminismo  \\\n",
      "2022-06-10T18:24:21.000Z         0                    0          0   \n",
      "2022-06-11T00:00:00.000Z         1                    1          0   \n",
      "2022-06-12T00:00:00.000Z         2                    1          0   \n",
      "2022-06-13T00:00:00.000Z         1                    1          0   \n",
      "2022-06-14T00:00:00.000Z         0                    1          0   \n",
      "2022-06-15T00:00:00.000Z         0                    0          0   \n",
      "2022-06-16T00:00:00.000Z         0                    0          0   \n",
      "2022-06-17T00:00:00.000Z         1                    1          0   \n",
      "\n",
      "                          reforma agrária  corrupção  segurança  \n",
      "2022-06-10T18:24:21.000Z                0          1          0  \n",
      "2022-06-11T00:00:00.000Z                0          2          0  \n",
      "2022-06-12T00:00:00.000Z                0          9          0  \n",
      "2022-06-13T00:00:00.000Z                0          7          1  \n",
      "2022-06-14T00:00:00.000Z                0          2          0  \n",
      "2022-06-15T00:00:00.000Z                0          0          0  \n",
      "2022-06-16T00:00:00.000Z                0          5          0  \n",
      "2022-06-17T00:00:00.000Z                0          3          0  \n",
      "                          ditadura  reforma trabalhista  feminismo  \\\n",
      "2022-06-10T18:24:23.000Z         0                    0          0   \n",
      "2022-06-11T00:00:00.000Z         0                    0          0   \n",
      "2022-06-12T00:00:00.000Z         0                    0          0   \n",
      "2022-06-13T00:00:00.000Z         0                    0          0   \n",
      "2022-06-14T00:00:00.000Z         0                    0          0   \n",
      "2022-06-15T00:00:00.000Z         0                    1          0   \n",
      "2022-06-16T00:00:00.000Z         0                    0          0   \n",
      "2022-06-17T00:00:00.000Z         0                    0          0   \n",
      "\n",
      "                          reforma agrária  corrupção  segurança  \n",
      "2022-06-10T18:24:23.000Z                0          0          0  \n",
      "2022-06-11T00:00:00.000Z                0          2          0  \n",
      "2022-06-12T00:00:00.000Z                0          0          0  \n",
      "2022-06-13T00:00:00.000Z                0          5          0  \n",
      "2022-06-14T00:00:00.000Z                0          7          0  \n",
      "2022-06-15T00:00:00.000Z                0          5          0  \n",
      "2022-06-16T00:00:00.000Z                0          3          0  \n",
      "2022-06-17T00:00:00.000Z                0          1          0  \n",
      "                          ditadura  reforma trabalhista  feminismo  \\\n",
      "2022-06-10T18:24:25.000Z         0                    0          0   \n",
      "2022-06-11T00:00:00.000Z         0                    0          0   \n",
      "2022-06-12T00:00:00.000Z         0                    0          0   \n",
      "2022-06-13T00:00:00.000Z         0                    0          0   \n",
      "2022-06-14T00:00:00.000Z         0                    0          0   \n",
      "2022-06-15T00:00:00.000Z         0                    0          0   \n",
      "2022-06-16T00:00:00.000Z         0                    0          0   \n",
      "2022-06-17T00:00:00.000Z         0                    0          0   \n",
      "\n",
      "                          reforma agrária  corrupção  segurança  \n",
      "2022-06-10T18:24:25.000Z                0          0          0  \n",
      "2022-06-11T00:00:00.000Z                0          0          0  \n",
      "2022-06-12T00:00:00.000Z                0          0          0  \n",
      "2022-06-13T00:00:00.000Z                0          0          0  \n",
      "2022-06-14T00:00:00.000Z                0          0          0  \n",
      "2022-06-15T00:00:00.000Z                0          0          0  \n",
      "2022-06-16T00:00:00.000Z                0          0          0  \n",
      "2022-06-17T00:00:00.000Z                0          0          0  \n",
      "                          ditadura  reforma trabalhista  feminismo  \\\n",
      "2022-06-10T18:24:27.000Z         0                    0          0   \n",
      "2022-06-11T00:00:00.000Z         0                    0          0   \n",
      "2022-06-12T00:00:00.000Z         0                    0          0   \n",
      "2022-06-13T00:00:00.000Z         0                    0          0   \n",
      "2022-06-14T00:00:00.000Z         1                    0          0   \n",
      "2022-06-15T00:00:00.000Z         0                    0          0   \n",
      "2022-06-16T00:00:00.000Z         0                    0          0   \n",
      "2022-06-17T00:00:00.000Z         0                    0          0   \n",
      "\n",
      "                          reforma agrária  corrupção  segurança  \n",
      "2022-06-10T18:24:27.000Z                0          0          0  \n",
      "2022-06-11T00:00:00.000Z                0          0          0  \n",
      "2022-06-12T00:00:00.000Z                0          0          0  \n",
      "2022-06-13T00:00:00.000Z                0          0          0  \n",
      "2022-06-14T00:00:00.000Z                0          0          0  \n",
      "2022-06-15T00:00:00.000Z                0          0          0  \n",
      "2022-06-16T00:00:00.000Z                0          0          0  \n",
      "2022-06-17T00:00:00.000Z                0          0          0  \n",
      "                          ditadura  reforma trabalhista  feminismo  \\\n",
      "2022-06-10T18:24:29.000Z         0                    0          0   \n",
      "2022-06-11T00:00:00.000Z         0                    0          0   \n",
      "2022-06-12T00:00:00.000Z         0                    0          0   \n",
      "2022-06-13T00:00:00.000Z         0                    0          0   \n",
      "2022-06-14T00:00:00.000Z         0                    0          0   \n",
      "2022-06-15T00:00:00.000Z         0                    0          0   \n",
      "2022-06-16T00:00:00.000Z         0                    0          0   \n",
      "2022-06-17T00:00:00.000Z         0                    0          0   \n",
      "\n",
      "                          reforma agrária  corrupção  segurança  \n",
      "2022-06-10T18:24:29.000Z                0          0          0  \n",
      "2022-06-11T00:00:00.000Z                0          0          0  \n",
      "2022-06-12T00:00:00.000Z                0          0          0  \n",
      "2022-06-13T00:00:00.000Z                0          0          0  \n",
      "2022-06-14T00:00:00.000Z                0          0          0  \n",
      "2022-06-15T00:00:00.000Z                0          0          0  \n",
      "2022-06-16T00:00:00.000Z                0          0          0  \n",
      "2022-06-17T00:00:00.000Z                0          0          0  \n",
      "                          ditadura  reforma trabalhista  feminismo  \\\n",
      "2022-06-10T18:24:30.000Z         0                    0          0   \n",
      "2022-06-11T00:00:00.000Z         0                    0          0   \n",
      "2022-06-12T00:00:00.000Z         0                    0          0   \n",
      "2022-06-13T00:00:00.000Z         0                    0          0   \n",
      "2022-06-14T00:00:00.000Z         0                    0          0   \n",
      "2022-06-15T00:00:00.000Z         0                    0          0   \n",
      "2022-06-16T00:00:00.000Z         0                    0          0   \n",
      "2022-06-17T00:00:00.000Z         0                    0          0   \n",
      "\n",
      "                          reforma agrária  corrupção  segurança  \n",
      "2022-06-10T18:24:30.000Z                0          0          0  \n",
      "2022-06-11T00:00:00.000Z                0          0          0  \n",
      "2022-06-12T00:00:00.000Z                0          0          0  \n",
      "2022-06-13T00:00:00.000Z                0          0          0  \n",
      "2022-06-14T00:00:00.000Z                0          0          0  \n",
      "2022-06-15T00:00:00.000Z                0          0          0  \n",
      "2022-06-16T00:00:00.000Z                0          0          0  \n",
      "2022-06-17T00:00:00.000Z                0          0          0  \n",
      "                          ditadura  reforma trabalhista  feminismo  \\\n",
      "2022-06-10T18:24:32.000Z         0                    0          0   \n",
      "2022-06-11T00:00:00.000Z         0                    0          0   \n",
      "2022-06-12T00:00:00.000Z         0                    0          0   \n",
      "2022-06-13T00:00:00.000Z         0                    0          0   \n",
      "2022-06-14T00:00:00.000Z         0                    0          0   \n",
      "2022-06-15T00:00:00.000Z         0                    0          0   \n",
      "2022-06-16T00:00:00.000Z         0                    0          0   \n",
      "2022-06-17T00:00:00.000Z         0                    0          0   \n",
      "\n",
      "                          reforma agrária  corrupção  segurança  \n",
      "2022-06-10T18:24:32.000Z                0          0          0  \n",
      "2022-06-11T00:00:00.000Z                0          0          0  \n",
      "2022-06-12T00:00:00.000Z                0          0          0  \n",
      "2022-06-13T00:00:00.000Z                0          0          0  \n",
      "2022-06-14T00:00:00.000Z                0          0          0  \n",
      "2022-06-15T00:00:00.000Z                0          0          0  \n",
      "2022-06-16T00:00:00.000Z                0          0          0  \n",
      "2022-06-17T00:00:00.000Z                0          1          0  \n",
      "                          ditadura  reforma trabalhista  feminismo  \\\n",
      "2022-06-10T18:24:34.000Z         0                    0          0   \n",
      "2022-06-11T00:00:00.000Z         0                    1          0   \n",
      "2022-06-12T00:00:00.000Z         0                    0          0   \n",
      "2022-06-13T00:00:00.000Z         0                    0          0   \n",
      "2022-06-14T00:00:00.000Z         0                    0          0   \n",
      "2022-06-15T00:00:00.000Z         0                    1          0   \n",
      "2022-06-16T00:00:00.000Z         0                    0          0   \n",
      "2022-06-17T00:00:00.000Z         0                    0          0   \n",
      "\n",
      "                          reforma agrária  corrupção  segurança  \n",
      "2022-06-10T18:24:34.000Z                0          0          0  \n",
      "2022-06-11T00:00:00.000Z                0          0          0  \n",
      "2022-06-12T00:00:00.000Z                1          0          0  \n",
      "2022-06-13T00:00:00.000Z                0          0          0  \n",
      "2022-06-14T00:00:00.000Z                0          0          0  \n",
      "2022-06-15T00:00:00.000Z                0          0          0  \n",
      "2022-06-16T00:00:00.000Z                0          0          0  \n",
      "2022-06-17T00:00:00.000Z                0          0          0  \n",
      "                          ditadura  reforma trabalhista  feminismo  \\\n",
      "2022-06-10T18:24:35.000Z         0                    0          0   \n",
      "2022-06-11T00:00:00.000Z         0                    0          0   \n",
      "2022-06-12T00:00:00.000Z         0                    0          0   \n",
      "2022-06-13T00:00:00.000Z         0                    0          0   \n",
      "2022-06-14T00:00:00.000Z         0                    0          0   \n",
      "2022-06-15T00:00:00.000Z         0                    0          0   \n",
      "2022-06-16T00:00:00.000Z         0                    0          0   \n",
      "2022-06-17T00:00:00.000Z         0                    0          0   \n",
      "\n",
      "                          reforma agrária  corrupção  segurança  \n",
      "2022-06-10T18:24:35.000Z                0          0          1  \n",
      "2022-06-11T00:00:00.000Z                0          0          0  \n",
      "2022-06-12T00:00:00.000Z                0          0          0  \n",
      "2022-06-13T00:00:00.000Z                0          0          0  \n",
      "2022-06-14T00:00:00.000Z                0          0          1  \n",
      "2022-06-15T00:00:00.000Z                0          0          0  \n",
      "2022-06-16T00:00:00.000Z                0          0          0  \n",
      "2022-06-17T00:00:00.000Z                0          1          0  \n"
     ]
    }
   ],
   "source": [
    "for pre_candidato in pre_candidatos:\n",
    "    criar_csv_7dias(pre_candidato, temas)"
   ]
  },
  {
   "cell_type": "code",
   "execution_count": null,
   "metadata": {},
   "outputs": [],
   "source": [
    "negativos = ['ditadura',\n",
    "            'reforma trabalhista',\n",
    "            'feminismo',\n",
    "            'reforma agrária',\n",
    "            'corrupção',\n",
    "            'segurança']"
   ]
  },
  {
   "cell_type": "code",
   "execution_count": null,
   "metadata": {},
   "outputs": [],
   "source": [
    "for pre_candidato in pre_candidatos:\n",
    "    criar_csv_7dias(pre_candidato, negativos, tipo='neg')"
   ]
  },
  {
   "cell_type": "code",
   "execution_count": null,
   "metadata": {},
   "outputs": [],
   "source": [
    "positivos = ['ditadura',\n",
    "            'reforma trabalhista',\n",
    "            'feminismo',\n",
    "            'reforma agrária',\n",
    "            'corrupção',\n",
    "            'segurança']"
   ]
  },
  {
   "cell_type": "code",
   "execution_count": null,
   "metadata": {},
   "outputs": [],
   "source": [
    "for pre_candidato in pre_candidatos:\n",
    "    criar_csv_7dias(pre_candidato, positivos, tipo='pos')"
   ]
  }
 ],
 "metadata": {
  "interpreter": {
   "hash": "52cf93b3245c947d64d0217858e618f9641697b5c808500ce60698e2564fce2d"
  },
  "kernelspec": {
   "display_name": "Python 3.10.0 64-bit",
   "language": "python",
   "name": "python3"
  },
  "language_info": {
   "codemirror_mode": {
    "name": "ipython",
    "version": 3
   },
   "file_extension": ".py",
   "mimetype": "text/x-python",
   "name": "python",
   "nbconvert_exporter": "python",
   "pygments_lexer": "ipython3",
   "version": "3.10.0"
  },
  "orig_nbformat": 4
 },
 "nbformat": 4,
 "nbformat_minor": 2
}
