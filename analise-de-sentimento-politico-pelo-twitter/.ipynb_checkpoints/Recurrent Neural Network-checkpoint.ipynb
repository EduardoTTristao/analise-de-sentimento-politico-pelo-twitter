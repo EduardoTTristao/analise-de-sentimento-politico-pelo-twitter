{
 "cells": [
  {
   "cell_type": "code",
   "execution_count": 5,
   "id": "6397d37e",
   "metadata": {},
   "outputs": [],
   "source": [
    "import pandas as pd\n",
    "# Carregando dados\n",
    "import glob\n",
    "\n",
    "def df_all_folder(path,sufixo=\"_tweets.csv\"):\n",
    "    all_files = glob.glob(path + \"*\"+sufixo)\n",
    "    li = []    \n",
    "    \n",
    "    for filename in all_files:\n",
    "        df = pd.read_csv(filename, index_col=0)\n",
    "        if \"janones\" not in filename: \n",
    "            li.append(df)\n",
    "    names = []\n",
    "    for filename in all_files:\n",
    "        x = filename.replace(path, \"\")\n",
    "        x = x.replace(sufixo, \"\")\n",
    "        names.append(x.replace(\" \",\"_\"))\n",
    "    return pd.concat(li, axis=0, keys =names).reset_index().rename(columns={'level_0': \"candidato\"})"
   ]
  },
  {
   "cell_type": "code",
   "execution_count": 6,
   "id": "b8408292",
   "metadata": {},
   "outputs": [
    {
     "data": {
      "text/html": [
       "<div>\n",
       "<style scoped>\n",
       "    .dataframe tbody tr th:only-of-type {\n",
       "        vertical-align: middle;\n",
       "    }\n",
       "\n",
       "    .dataframe tbody tr th {\n",
       "        vertical-align: top;\n",
       "    }\n",
       "\n",
       "    .dataframe thead th {\n",
       "        text-align: right;\n",
       "    }\n",
       "</style>\n",
       "<table border=\"1\" class=\"dataframe\">\n",
       "  <thead>\n",
       "    <tr style=\"text-align: right;\">\n",
       "      <th></th>\n",
       "      <th>candidato</th>\n",
       "      <th>level_1</th>\n",
       "      <th>text</th>\n",
       "      <th>id</th>\n",
       "      <th>retweets</th>\n",
       "      <th>replys</th>\n",
       "      <th>likes</th>\n",
       "      <th>author_id</th>\n",
       "      <th>source</th>\n",
       "      <th>lang</th>\n",
       "      <th>created_at</th>\n",
       "      <th>place_id</th>\n",
       "    </tr>\n",
       "  </thead>\n",
       "  <tbody>\n",
       "    <tr>\n",
       "      <th>0</th>\n",
       "      <td>dados/ultimos_100_tweets\\bivar</td>\n",
       "      <td>0</td>\n",
       "      <td>@fartosuely1 @_afadamadrinha @thinkmoreBrazil ...</td>\n",
       "      <td>1.537649e+18</td>\n",
       "      <td>1.0</td>\n",
       "      <td>0.0</td>\n",
       "      <td>1.0</td>\n",
       "      <td>1.410976e+18</td>\n",
       "      <td>Twitter for Android</td>\n",
       "      <td>pt</td>\n",
       "      <td>2022-06-17 04:11:17+00:00</td>\n",
       "      <td>NaN</td>\n",
       "    </tr>\n",
       "    <tr>\n",
       "      <th>1</th>\n",
       "      <td>dados/ultimos_100_tweets\\bivar</td>\n",
       "      <td>1</td>\n",
       "      <td>@ElenTorres10 Quem confia no Bivar?</td>\n",
       "      <td>1.537646e+18</td>\n",
       "      <td>0.0</td>\n",
       "      <td>0.0</td>\n",
       "      <td>0.0</td>\n",
       "      <td>2.387485e+08</td>\n",
       "      <td>Twitter for iPhone</td>\n",
       "      <td>pt</td>\n",
       "      <td>2022-06-17 04:00:30+00:00</td>\n",
       "      <td>NaN</td>\n",
       "    </tr>\n",
       "    <tr>\n",
       "      <th>2</th>\n",
       "      <td>dados/ultimos_100_tweets\\bivar</td>\n",
       "      <td>2</td>\n",
       "      <td>Moro pode escolher cargo para concorrer, diz o...</td>\n",
       "      <td>1.537646e+18</td>\n",
       "      <td>0.0</td>\n",
       "      <td>0.0</td>\n",
       "      <td>0.0</td>\n",
       "      <td>1.487306e+18</td>\n",
       "      <td>Twitter Web App</td>\n",
       "      <td>pt</td>\n",
       "      <td>2022-06-17 03:58:56+00:00</td>\n",
       "      <td>NaN</td>\n",
       "    </tr>\n",
       "    <tr>\n",
       "      <th>3</th>\n",
       "      <td>dados/ultimos_100_tweets\\bivar</td>\n",
       "      <td>3</td>\n",
       "      <td>@luzia74992679 Acorda Bivar, é Moro para Presi...</td>\n",
       "      <td>1.537646e+18</td>\n",
       "      <td>0.0</td>\n",
       "      <td>0.0</td>\n",
       "      <td>0.0</td>\n",
       "      <td>1.410976e+18</td>\n",
       "      <td>Twitter for Android</td>\n",
       "      <td>pt</td>\n",
       "      <td>2022-06-17 03:58:30+00:00</td>\n",
       "      <td>NaN</td>\n",
       "    </tr>\n",
       "    <tr>\n",
       "      <th>4</th>\n",
       "      <td>dados/ultimos_100_tweets\\bivar</td>\n",
       "      <td>4</td>\n",
       "      <td>Bivar pensa que todos são alienados, Moro para...</td>\n",
       "      <td>1.537645e+18</td>\n",
       "      <td>1.0</td>\n",
       "      <td>1.0</td>\n",
       "      <td>2.0</td>\n",
       "      <td>1.487306e+18</td>\n",
       "      <td>Twitter Web App</td>\n",
       "      <td>pt</td>\n",
       "      <td>2022-06-17 03:54:36+00:00</td>\n",
       "      <td>NaN</td>\n",
       "    </tr>\n",
       "    <tr>\n",
       "      <th>...</th>\n",
       "      <td>...</td>\n",
       "      <td>...</td>\n",
       "      <td>...</td>\n",
       "      <td>...</td>\n",
       "      <td>...</td>\n",
       "      <td>...</td>\n",
       "      <td>...</td>\n",
       "      <td>...</td>\n",
       "      <td>...</td>\n",
       "      <td>...</td>\n",
       "      <td>...</td>\n",
       "      <td>...</td>\n",
       "    </tr>\n",
       "    <tr>\n",
       "      <th>1831</th>\n",
       "      <td>dados/ultimos_100_tweets\\sofia_manzano</td>\n",
       "      <td>95</td>\n",
       "      <td>@Anitta ANITTA VC PRECISA VER SOBRE A VERA LÚC...</td>\n",
       "      <td>1.546963e+18</td>\n",
       "      <td>0.0</td>\n",
       "      <td>0.0</td>\n",
       "      <td>0.0</td>\n",
       "      <td>1.460646e+18</td>\n",
       "      <td>Twitter for Android</td>\n",
       "      <td>pt</td>\n",
       "      <td>2022-07-12 21:02:57+00:00</td>\n",
       "      <td>NaN</td>\n",
       "    </tr>\n",
       "    <tr>\n",
       "      <th>1832</th>\n",
       "      <td>dados/ultimos_100_tweets\\sofia_manzano</td>\n",
       "      <td>96</td>\n",
       "      <td>Olá 👋 passando aqui para informar que a partir...</td>\n",
       "      <td>1.546962e+18</td>\n",
       "      <td>0.0</td>\n",
       "      <td>0.0</td>\n",
       "      <td>4.0</td>\n",
       "      <td>4.195617e+08</td>\n",
       "      <td>Twitter Web App</td>\n",
       "      <td>pt</td>\n",
       "      <td>2022-07-12 20:57:43+00:00</td>\n",
       "      <td>NaN</td>\n",
       "    </tr>\n",
       "    <tr>\n",
       "      <th>1833</th>\n",
       "      <td>dados/ultimos_100_tweets\\sofia_manzano</td>\n",
       "      <td>97</td>\n",
       "      <td>O dinheiro que a mona investiu pra superar a V...</td>\n",
       "      <td>1.546958e+18</td>\n",
       "      <td>0.0</td>\n",
       "      <td>1.0</td>\n",
       "      <td>1.0</td>\n",
       "      <td>1.158390e+18</td>\n",
       "      <td>Twitter for iPhone</td>\n",
       "      <td>pt</td>\n",
       "      <td>2022-07-12 20:40:36+00:00</td>\n",
       "      <td>NaN</td>\n",
       "    </tr>\n",
       "    <tr>\n",
       "      <th>1834</th>\n",
       "      <td>dados/ultimos_100_tweets\\sofia_manzano</td>\n",
       "      <td>98</td>\n",
       "      <td>Daqui a pouco, as 18h, a rádio web 2 de Julho ...</td>\n",
       "      <td>1.546957e+18</td>\n",
       "      <td>0.0</td>\n",
       "      <td>0.0</td>\n",
       "      <td>0.0</td>\n",
       "      <td>1.506264e+18</td>\n",
       "      <td>Twitter Web App</td>\n",
       "      <td>pt</td>\n",
       "      <td>2022-07-12 20:35:52+00:00</td>\n",
       "      <td>NaN</td>\n",
       "    </tr>\n",
       "    <tr>\n",
       "      <th>1835</th>\n",
       "      <td>dados/ultimos_100_tweets\\sofia_manzano</td>\n",
       "      <td>99</td>\n",
       "      <td>@simonetebetbr Tebet, polarização era PT x PSD...</td>\n",
       "      <td>1.546939e+18</td>\n",
       "      <td>0.0</td>\n",
       "      <td>2.0</td>\n",
       "      <td>33.0</td>\n",
       "      <td>1.370875e+08</td>\n",
       "      <td>Twitter for Android</td>\n",
       "      <td>pt</td>\n",
       "      <td>2022-07-12 19:28:08+00:00</td>\n",
       "      <td>NaN</td>\n",
       "    </tr>\n",
       "  </tbody>\n",
       "</table>\n",
       "<p>1836 rows × 12 columns</p>\n",
       "</div>"
      ],
      "text/plain": [
       "                                   candidato  level_1  \\\n",
       "0             dados/ultimos_100_tweets\\bivar        0   \n",
       "1             dados/ultimos_100_tweets\\bivar        1   \n",
       "2             dados/ultimos_100_tweets\\bivar        2   \n",
       "3             dados/ultimos_100_tweets\\bivar        3   \n",
       "4             dados/ultimos_100_tweets\\bivar        4   \n",
       "...                                      ...      ...   \n",
       "1831  dados/ultimos_100_tweets\\sofia_manzano       95   \n",
       "1832  dados/ultimos_100_tweets\\sofia_manzano       96   \n",
       "1833  dados/ultimos_100_tweets\\sofia_manzano       97   \n",
       "1834  dados/ultimos_100_tweets\\sofia_manzano       98   \n",
       "1835  dados/ultimos_100_tweets\\sofia_manzano       99   \n",
       "\n",
       "                                                   text            id  \\\n",
       "0     @fartosuely1 @_afadamadrinha @thinkmoreBrazil ...  1.537649e+18   \n",
       "1                   @ElenTorres10 Quem confia no Bivar?  1.537646e+18   \n",
       "2     Moro pode escolher cargo para concorrer, diz o...  1.537646e+18   \n",
       "3     @luzia74992679 Acorda Bivar, é Moro para Presi...  1.537646e+18   \n",
       "4     Bivar pensa que todos são alienados, Moro para...  1.537645e+18   \n",
       "...                                                 ...           ...   \n",
       "1831  @Anitta ANITTA VC PRECISA VER SOBRE A VERA LÚC...  1.546963e+18   \n",
       "1832  Olá 👋 passando aqui para informar que a partir...  1.546962e+18   \n",
       "1833  O dinheiro que a mona investiu pra superar a V...  1.546958e+18   \n",
       "1834  Daqui a pouco, as 18h, a rádio web 2 de Julho ...  1.546957e+18   \n",
       "1835  @simonetebetbr Tebet, polarização era PT x PSD...  1.546939e+18   \n",
       "\n",
       "      retweets  replys  likes     author_id               source lang  \\\n",
       "0          1.0     0.0    1.0  1.410976e+18  Twitter for Android   pt   \n",
       "1          0.0     0.0    0.0  2.387485e+08   Twitter for iPhone   pt   \n",
       "2          0.0     0.0    0.0  1.487306e+18      Twitter Web App   pt   \n",
       "3          0.0     0.0    0.0  1.410976e+18  Twitter for Android   pt   \n",
       "4          1.0     1.0    2.0  1.487306e+18      Twitter Web App   pt   \n",
       "...        ...     ...    ...           ...                  ...  ...   \n",
       "1831       0.0     0.0    0.0  1.460646e+18  Twitter for Android   pt   \n",
       "1832       0.0     0.0    4.0  4.195617e+08      Twitter Web App   pt   \n",
       "1833       0.0     1.0    1.0  1.158390e+18   Twitter for iPhone   pt   \n",
       "1834       0.0     0.0    0.0  1.506264e+18      Twitter Web App   pt   \n",
       "1835       0.0     2.0   33.0  1.370875e+08  Twitter for Android   pt   \n",
       "\n",
       "                     created_at place_id  \n",
       "0     2022-06-17 04:11:17+00:00      NaN  \n",
       "1     2022-06-17 04:00:30+00:00      NaN  \n",
       "2     2022-06-17 03:58:56+00:00      NaN  \n",
       "3     2022-06-17 03:58:30+00:00      NaN  \n",
       "4     2022-06-17 03:54:36+00:00      NaN  \n",
       "...                         ...      ...  \n",
       "1831  2022-07-12 21:02:57+00:00      NaN  \n",
       "1832  2022-07-12 20:57:43+00:00      NaN  \n",
       "1833  2022-07-12 20:40:36+00:00      NaN  \n",
       "1834  2022-07-12 20:35:52+00:00      NaN  \n",
       "1835  2022-07-12 19:28:08+00:00      NaN  \n",
       "\n",
       "[1836 rows x 12 columns]"
      ]
     },
     "execution_count": 6,
     "metadata": {},
     "output_type": "execute_result"
    }
   ],
   "source": [
    "df = df_all_folder(\"dados/ultimos_100_tweets/\")\n",
    "df"
   ]
  },
  {
   "cell_type": "code",
   "execution_count": 8,
   "id": "75c0ca99",
   "metadata": {},
   "outputs": [
    {
     "name": "stderr",
     "output_type": "stream",
     "text": [
      "[nltk_data] Downloading package punkt to\n",
      "[nltk_data]     C:\\Users\\luish\\AppData\\Roaming\\nltk_data...\n",
      "[nltk_data]   Unzipping tokenizers\\punkt.zip.\n"
     ]
    },
    {
     "data": {
      "text/plain": [
       "True"
      ]
     },
     "execution_count": 8,
     "metadata": {},
     "output_type": "execute_result"
    }
   ],
   "source": [
    "import nltk\n",
    "nltk.download('punkt')"
   ]
  },
  {
   "cell_type": "code",
   "execution_count": 9,
   "id": "46df581c",
   "metadata": {},
   "outputs": [
    {
     "name": "stderr",
     "output_type": "stream",
     "text": [
      "[nltk_data] Downloading package stopwords to\n",
      "[nltk_data]     C:\\Users\\luish\\AppData\\Roaming\\nltk_data...\n",
      "[nltk_data]   Unzipping corpora\\stopwords.zip.\n"
     ]
    },
    {
     "data": {
      "text/plain": [
       "True"
      ]
     },
     "execution_count": 9,
     "metadata": {},
     "output_type": "execute_result"
    }
   ],
   "source": [
    "nltk.download('stopwords')"
   ]
  },
  {
   "cell_type": "code",
   "execution_count": 10,
   "id": "5e6ddf32",
   "metadata": {},
   "outputs": [],
   "source": [
    "df = df[df['text'].notna()]"
   ]
  },
  {
   "cell_type": "code",
   "execution_count": 11,
   "id": "39f6c250",
   "metadata": {},
   "outputs": [
    {
     "data": {
      "text/plain": [
       "0       thinkmorebrazil deltanmd acorda bivar moro pre...\n",
       "1                                            confia bivar\n",
       "2       moro pode escolher cargo concorrer diz preside...\n",
       "3                            acorda bivar moro presidente\n",
       "4       bivar pensa todos alienados moro governador pr...\n",
       "                              ...                        \n",
       "1831    anitta anitta vc precisa ver sobre vera lúcia ...\n",
       "1832    olá passando aqui informar partir semana pré p...\n",
       "1833    dinheiro mona investiu pra superar vera lúcia ...\n",
       "1834    daqui pouco rádio web julho reapresenta entrev...\n",
       "1835    simonetebetbr tebet polarização pt x psdb bols...\n",
       "Length: 1738, dtype: object"
      ]
     },
     "execution_count": 11,
     "metadata": {},
     "output_type": "execute_result"
    }
   ],
   "source": [
    "from nltk.corpus import stopwords\n",
    "from nltk.tokenize import word_tokenize\n",
    " \n",
    "def remove_stop_words(text):\n",
    "    text = word_tokenize(text.lower())\n",
    "    stop_words = set(stopwords.words('portuguese'))\n",
    "    text = [word for word in text if word.isalpha() and not word in stop_words]\n",
    "    return ' '.join(text)\n",
    "     \n",
    "x = df.apply(lambda row: remove_stop_words(row['text']), axis=1)\n",
    "x\n"
   ]
  },
  {
   "cell_type": "code",
   "execution_count": 12,
   "id": "e2f3ddf0",
   "metadata": {},
   "outputs": [],
   "source": [
    "# x_test = x[0:int(len(x)*0.3)]\n",
    "# x_trein = x[int(len(x)*0.3):len(x)]"
   ]
  },
  {
   "cell_type": "code",
   "execution_count": 13,
   "id": "b487c57d",
   "metadata": {},
   "outputs": [
    {
     "data": {
      "text/plain": [
       "0       NT\n",
       "1       NG\n",
       "2       NG\n",
       "3       NG\n",
       "4       NG\n",
       "        ..\n",
       "1734    PS\n",
       "1735    NT\n",
       "1736    NT\n",
       "1737    NT\n",
       "1738    NT\n",
       "Name: level_1, Length: 1738, dtype: object"
      ]
     },
     "execution_count": 13,
     "metadata": {},
     "output_type": "execute_result"
    }
   ],
   "source": [
    "y = df_all_folder(\"dados/ultimos_100_tweets/\",sufixo='_labeled.csv')['level_1'].dropna().apply(lambda x : x.upper())\n",
    "y"
   ]
  },
  {
   "cell_type": "code",
   "execution_count": 14,
   "id": "503a8f53",
   "metadata": {},
   "outputs": [
    {
     "data": {
      "text/plain": [
       "0       1\n",
       "1       0\n",
       "2       0\n",
       "3       0\n",
       "4       0\n",
       "       ..\n",
       "1734    2\n",
       "1735    1\n",
       "1736    1\n",
       "1737    1\n",
       "1738    1\n",
       "Name: level_1, Length: 1738, dtype: int64"
      ]
     },
     "execution_count": 14,
     "metadata": {},
     "output_type": "execute_result"
    }
   ],
   "source": [
    "y = y.apply(lambda x: 0 if x == 'NG' else 1 if x == 'NT' else 2)\n",
    "y"
   ]
  },
  {
   "cell_type": "code",
   "execution_count": 15,
   "id": "e8366ed0",
   "metadata": {},
   "outputs": [],
   "source": [
    "from keras.preprocessing.text import Tokenizer\n",
    "from keras_preprocessing.sequence import pad_sequences\n",
    "\n",
    "def tokenizar(x):\n",
    "    max_words = 20000\n",
    "    \n",
    "    tokenizer = Tokenizer(num_words=max_words)\n",
    "    tokenizer.fit_on_texts(x)\n",
    "    sequences = tokenizer.texts_to_sequences(x)\n",
    "    return pad_sequences(sequences, maxlen=500)\n",
    "x = tokenizar(x)"
   ]
  },
  {
   "cell_type": "code",
   "execution_count": 16,
   "id": "c86d8617",
   "metadata": {},
   "outputs": [
    {
     "data": {
      "text/plain": [
       "0       0\n",
       "1       0\n",
       "2       0\n",
       "3       0\n",
       "4       0\n",
       "       ..\n",
       "1734    1\n",
       "1735    0\n",
       "1736    0\n",
       "1737    0\n",
       "1738    0\n",
       "Name: level_1, Length: 1738, dtype: int64"
      ]
     },
     "execution_count": 16,
     "metadata": {},
     "output_type": "execute_result"
    }
   ],
   "source": [
    "import numpy as np\n",
    "new_y = y.copy()\n",
    "new_y = new_y.apply(lambda x: 1 if x == 2 else 0)\n",
    "new_y"
   ]
  },
  {
   "cell_type": "code",
   "execution_count": 17,
   "id": "b4856778",
   "metadata": {},
   "outputs": [],
   "source": [
    "y_test = y[0:int(len(y)*0.3)]\n",
    "y_trein = y[int(len(y)*0.3):len(y)]\n",
    "x_test = x[0:int(len(x)*0.3)]\n",
    "x_trein = x[int(len(x)*0.3):len(x)]\n",
    "y_test_n = new_y[0:int(len(new_y)*0.3)]\n",
    "y_trein_n = new_y[int(len(new_y)*0.3):len(new_y)]"
   ]
  },
  {
   "cell_type": "code",
   "execution_count": 27,
   "id": "c94e8472",
   "metadata": {},
   "outputs": [],
   "source": [
    "import tensorflow as tf\n",
    "from keras.models import Sequential\n",
    "from keras.layers import Dense, Flatten, LSTM, Masking, Conv1D, MaxPool1D, GRU\n",
    "from keras.layers import Embedding\n",
    "from keras.metrics import Precision, Recall\n",
    " \n",
    "model = Sequential() \n",
    "model.add(Embedding(20000, 32, input_length=500)) \n",
    "model.add(Masking(mask_value=0.0))\n",
    "model.add(LSTM(32, return_sequences=True))\n",
    "model.add(LSTM(32, return_sequences=True))\n",
    "model.add(LSTM(32, return_sequences=True))\n",
    "model.add(LSTM(32, return_sequences=True))\n",
    "model.add(LSTM(32, return_sequences=False))\n",
    "model.add(Dense(64, activation='relu'))\n",
    "model.add(Dense(64, activation='relu'))\n",
    "model.add(Dense(1))\n",
    "model.compile(optimizer='adam', loss=tf.keras.losses.BinaryCrossentropy(from_logits=True), metrics=['accuracy'])"
   ]
  },
  {
   "cell_type": "code",
   "execution_count": 28,
   "id": "eabbbefb",
   "metadata": {},
   "outputs": [
    {
     "name": "stdout",
     "output_type": "stream",
     "text": [
      "(None, 500) <dtype: 'float32'>\n",
      "(None, 1) <dtype: 'float32'>\n"
     ]
    },
    {
     "data": {
      "text/plain": [
       "[None]"
      ]
     },
     "execution_count": 28,
     "metadata": {},
     "output_type": "execute_result"
    }
   ],
   "source": [
    "[print(i.shape, i.dtype) for i in model.inputs]\n",
    "[print(o.shape, o.dtype) for o in model.outputs]"
   ]
  },
  {
   "cell_type": "code",
   "execution_count": 29,
   "id": "3658ba02",
   "metadata": {},
   "outputs": [
    {
     "name": "stdout",
     "output_type": "stream",
     "text": [
      "Epoch 1/12\n",
      "39/39 [==============================] - 55s 997ms/step - loss: 0.5977 - accuracy: 0.7354\n",
      "Epoch 2/12\n",
      "39/39 [==============================] - 38s 986ms/step - loss: 0.5775 - accuracy: 0.7354\n",
      "Epoch 3/12\n",
      "39/39 [==============================] - 38s 970ms/step - loss: 0.5252 - accuracy: 0.7510\n",
      "Epoch 4/12\n",
      "39/39 [==============================] - 40s 1s/step - loss: 0.3617 - accuracy: 0.8529\n",
      "Epoch 5/12\n",
      "39/39 [==============================] - 38s 984ms/step - loss: 0.2291 - accuracy: 0.9121\n",
      "Epoch 6/12\n",
      "39/39 [==============================] - 38s 983ms/step - loss: 0.1706 - accuracy: 0.9392\n",
      "Epoch 7/12\n",
      "39/39 [==============================] - 45s 1s/step - loss: 0.1413 - accuracy: 0.9532\n",
      "Epoch 8/12\n",
      "39/39 [==============================] - 39s 1s/step - loss: 0.1654 - accuracy: 0.9573\n",
      "Epoch 9/12\n",
      "39/39 [==============================] - 39s 997ms/step - loss: 0.1296 - accuracy: 0.9606\n",
      "Epoch 10/12\n",
      "39/39 [==============================] - 39s 989ms/step - loss: 0.1135 - accuracy: 0.9647\n",
      "Epoch 11/12\n",
      "39/39 [==============================] - 39s 1s/step - loss: 0.0998 - accuracy: 0.9696\n",
      "Epoch 12/12\n",
      "39/39 [==============================] - 39s 1s/step - loss: 0.0842 - accuracy: 0.9721\n"
     ]
    },
    {
     "data": {
      "text/plain": [
       "<keras.callbacks.History at 0x1bd16570970>"
      ]
     },
     "execution_count": 29,
     "metadata": {},
     "output_type": "execute_result"
    }
   ],
   "source": [
    "model.fit(x_trein, y_trein_n, epochs=12, verbose=1)"
   ]
  },
  {
   "cell_type": "code",
   "execution_count": 30,
   "id": "2b92a860",
   "metadata": {},
   "outputs": [
    {
     "name": "stdout",
     "output_type": "stream",
     "text": [
      "17/17 [==============================] - 10s 240ms/step - loss: 1.1242 - accuracy: 0.7313\n"
     ]
    },
    {
     "data": {
      "text/plain": [
       "[1.1241596937179565, 0.7312859892845154]"
      ]
     },
     "execution_count": 30,
     "metadata": {},
     "output_type": "execute_result"
    }
   ],
   "source": [
    "model.evaluate(np.array(x_test),np.array(y_test_n))"
   ]
  },
  {
   "cell_type": "code",
   "execution_count": 31,
   "id": "8ee93dd4",
   "metadata": {},
   "outputs": [
    {
     "name": "stdout",
     "output_type": "stream",
     "text": [
      "17/17 [==============================] - 10s 237ms/step\n"
     ]
    }
   ],
   "source": [
    "previsao = model.predict(np.array(x_test))"
   ]
  },
  {
   "cell_type": "code",
   "execution_count": 36,
   "id": "83ec58de",
   "metadata": {},
   "outputs": [],
   "source": [
    "pd.set_option('display.max_rows', 100)"
   ]
  },
  {
   "cell_type": "code",
   "execution_count": 127,
   "id": "890980ae",
   "metadata": {},
   "outputs": [],
   "source": [
    "def convert(num):\n",
    "    if num <=0:\n",
    "        return 0\n",
    "    else:\n",
    "        return 1\n",
    "\n",
    "arr_previsao = previsao\n",
    "arr_real = y_test_n\n",
    "converter = np.vectorize(convert)\n",
    "arr_previsao = converter(arr_previsao)"
   ]
  },
  {
   "cell_type": "code",
   "execution_count": 128,
   "id": "21da6aa7",
   "metadata": {},
   "outputs": [],
   "source": [
    "def classificador(previsao, real):\n",
    "    VP, VN, FN, FP = 0, 0, 0, 0\n",
    "    for i in range(521):\n",
    "        if real[i] == 1 and previsao[i] == 1:\n",
    "            VP+=1\n",
    "        elif real[i] == 0 and previsao[i] == 0:\n",
    "            VN+=1\n",
    "        elif real[i] == 1 and previsao[i] == 0:\n",
    "            FN+=1\n",
    "        else:\n",
    "            FP+=1\n",
    "    return VP, VN, FN, FP"
   ]
  },
  {
   "cell_type": "code",
   "execution_count": 129,
   "id": "36623cab",
   "metadata": {},
   "outputs": [],
   "source": [
    "VP, VN, FN, FP = classificador(arr_previsao, arr_real)"
   ]
  },
  {
   "cell_type": "code",
   "execution_count": 133,
   "id": "087e04f5",
   "metadata": {},
   "outputs": [
    {
     "name": "stdout",
     "output_type": "stream",
     "text": [
      "Acuracia: 0.72 \n",
      "Revocação: 0.26 \n",
      "Precisão: 0.21 \n",
      "f1-Score: 0.23\n"
     ]
    }
   ],
   "source": [
    "acuracia = (VP+VN)/(VP+VN+FP+FN)\n",
    "recall = VP / (VP + FN)\n",
    "precisao = VP / (VP + FP)\n",
    "f1_score = 2 * (precisao * recall) / (precisao + recall)\n",
    "\n",
    "print(\"Acuracia: {:.2f} \\nRevocação: {:.2f} \\nPrecisão: {:.2f} \\nf1-Score: {:.2f}\".format(acuracia,recall,precisao,f1_score))"
   ]
  },
  {
   "cell_type": "code",
   "execution_count": null,
   "id": "fdfb1a07",
   "metadata": {},
   "outputs": [],
   "source": []
  }
 ],
 "metadata": {
  "kernelspec": {
   "display_name": "Python 3 (ipykernel)",
   "language": "python",
   "name": "python3"
  },
  "language_info": {
   "codemirror_mode": {
    "name": "ipython",
    "version": 3
   },
   "file_extension": ".py",
   "mimetype": "text/x-python",
   "name": "python",
   "nbconvert_exporter": "python",
   "pygments_lexer": "ipython3",
   "version": "3.9.1"
  },
  "vscode": {
   "interpreter": {
    "hash": "21a407025843636f3b028dfaad46d04f666c39c3a1b6ea6cad8fbbfbaa2acc05"
   }
  }
 },
 "nbformat": 4,
 "nbformat_minor": 5
}
